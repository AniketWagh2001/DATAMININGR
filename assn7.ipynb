{
 "cells": [
  {
   "cell_type": "code",
   "execution_count": 100,
   "metadata": {
    "vscode": {
     "languageId": "r"
    }
   },
   "outputs": [
    {
     "data": {
      "text/html": [
       "<table>\n",
       "<thead><tr><th scope=col>schedtime</th><th scope=col>carrier</th><th scope=col>deptime</th><th scope=col>dest</th><th scope=col>distance</th><th scope=col>date</th><th scope=col>flightnumber</th><th scope=col>origin</th><th scope=col>weather</th><th scope=col>dayweek</th><th scope=col>daymonth</th><th scope=col>tailnu</th><th scope=col>delay</th></tr></thead>\n",
       "<tbody>\n",
       "\t<tr><td>1455    </td><td>OH      </td><td>1455    </td><td>JFK     </td><td>184     </td><td>1/1/2004</td><td>5935    </td><td>BWI     </td><td>0       </td><td>4       </td><td>1       </td><td>N940CA  </td><td>ontime  </td></tr>\n",
       "\t<tr><td>1640    </td><td>DH      </td><td>1640    </td><td>JFK     </td><td>213     </td><td>1/1/2004</td><td>6155    </td><td>DCA     </td><td>0       </td><td>4       </td><td>1       </td><td>N405FJ  </td><td>ontime  </td></tr>\n",
       "\t<tr><td>1245    </td><td>DH      </td><td>1245    </td><td>LGA     </td><td>229     </td><td>1/1/2004</td><td>7208    </td><td>IAD     </td><td>0       </td><td>4       </td><td>1       </td><td>N695BR  </td><td>ontime  </td></tr>\n",
       "\t<tr><td>1715    </td><td>DH      </td><td>1709    </td><td>LGA     </td><td>229     </td><td>1/1/2004</td><td>7215    </td><td>IAD     </td><td>0       </td><td>4       </td><td>1       </td><td>N662BR  </td><td>ontime  </td></tr>\n",
       "\t<tr><td>1039    </td><td>DH      </td><td>1035    </td><td>LGA     </td><td>229     </td><td>1/1/2004</td><td>7792    </td><td>IAD     </td><td>0       </td><td>4       </td><td>1       </td><td>N698BR  </td><td>ontime  </td></tr>\n",
       "\t<tr><td> 840    </td><td>DH      </td><td> 839    </td><td>JFK     </td><td>228     </td><td>1/1/2004</td><td>7800    </td><td>IAD     </td><td>0       </td><td>4       </td><td>1       </td><td>N687BR  </td><td>ontime  </td></tr>\n",
       "</tbody>\n",
       "</table>\n"
      ],
      "text/latex": [
       "\\begin{tabular}{r|lllllllllllll}\n",
       " schedtime & carrier & deptime & dest & distance & date & flightnumber & origin & weather & dayweek & daymonth & tailnu & delay\\\\\n",
       "\\hline\n",
       "\t 1455     & OH       & 1455     & JFK      & 184      & 1/1/2004 & 5935     & BWI      & 0        & 4        & 1        & N940CA   & ontime  \\\\\n",
       "\t 1640     & DH       & 1640     & JFK      & 213      & 1/1/2004 & 6155     & DCA      & 0        & 4        & 1        & N405FJ   & ontime  \\\\\n",
       "\t 1245     & DH       & 1245     & LGA      & 229      & 1/1/2004 & 7208     & IAD      & 0        & 4        & 1        & N695BR   & ontime  \\\\\n",
       "\t 1715     & DH       & 1709     & LGA      & 229      & 1/1/2004 & 7215     & IAD      & 0        & 4        & 1        & N662BR   & ontime  \\\\\n",
       "\t 1039     & DH       & 1035     & LGA      & 229      & 1/1/2004 & 7792     & IAD      & 0        & 4        & 1        & N698BR   & ontime  \\\\\n",
       "\t  840     & DH       &  839     & JFK      & 228      & 1/1/2004 & 7800     & IAD      & 0        & 4        & 1        & N687BR   & ontime  \\\\\n",
       "\\end{tabular}\n"
      ],
      "text/markdown": [
       "\n",
       "| schedtime | carrier | deptime | dest | distance | date | flightnumber | origin | weather | dayweek | daymonth | tailnu | delay |\n",
       "|---|---|---|---|---|---|---|---|---|---|---|---|---|\n",
       "| 1455     | OH       | 1455     | JFK      | 184      | 1/1/2004 | 5935     | BWI      | 0        | 4        | 1        | N940CA   | ontime   |\n",
       "| 1640     | DH       | 1640     | JFK      | 213      | 1/1/2004 | 6155     | DCA      | 0        | 4        | 1        | N405FJ   | ontime   |\n",
       "| 1245     | DH       | 1245     | LGA      | 229      | 1/1/2004 | 7208     | IAD      | 0        | 4        | 1        | N695BR   | ontime   |\n",
       "| 1715     | DH       | 1709     | LGA      | 229      | 1/1/2004 | 7215     | IAD      | 0        | 4        | 1        | N662BR   | ontime   |\n",
       "| 1039     | DH       | 1035     | LGA      | 229      | 1/1/2004 | 7792     | IAD      | 0        | 4        | 1        | N698BR   | ontime   |\n",
       "|  840     | DH       |  839     | JFK      | 228      | 1/1/2004 | 7800     | IAD      | 0        | 4        | 1        | N687BR   | ontime   |\n",
       "\n"
      ],
      "text/plain": [
       "  schedtime carrier deptime dest distance date     flightnumber origin weather\n",
       "1 1455      OH      1455    JFK  184      1/1/2004 5935         BWI    0      \n",
       "2 1640      DH      1640    JFK  213      1/1/2004 6155         DCA    0      \n",
       "3 1245      DH      1245    LGA  229      1/1/2004 7208         IAD    0      \n",
       "4 1715      DH      1709    LGA  229      1/1/2004 7215         IAD    0      \n",
       "5 1039      DH      1035    LGA  229      1/1/2004 7792         IAD    0      \n",
       "6  840      DH       839    JFK  228      1/1/2004 7800         IAD    0      \n",
       "  dayweek daymonth tailnu delay \n",
       "1 4       1        N940CA ontime\n",
       "2 4       1        N405FJ ontime\n",
       "3 4       1        N695BR ontime\n",
       "4 4       1        N662BR ontime\n",
       "5 4       1        N698BR ontime\n",
       "6 4       1        N687BR ontime"
      ]
     },
     "metadata": {},
     "output_type": "display_data"
    }
   ],
   "source": [
    "data <- read.csv(\"FlightDelays.csv\")\n",
    "head(data)"
   ]
  },
  {
   "cell_type": "code",
   "execution_count": 101,
   "metadata": {
    "vscode": {
     "languageId": "r"
    }
   },
   "outputs": [
    {
     "data": {
      "text/html": [
       "<dl class=dl-horizontal>\n",
       "\t<dt>schedtime</dt>\n",
       "\t\t<dd>0</dd>\n",
       "\t<dt>carrier</dt>\n",
       "\t\t<dd>0</dd>\n",
       "\t<dt>deptime</dt>\n",
       "\t\t<dd>0</dd>\n",
       "\t<dt>dest</dt>\n",
       "\t\t<dd>0</dd>\n",
       "\t<dt>distance</dt>\n",
       "\t\t<dd>0</dd>\n",
       "\t<dt>date</dt>\n",
       "\t\t<dd>0</dd>\n",
       "\t<dt>flightnumber</dt>\n",
       "\t\t<dd>0</dd>\n",
       "\t<dt>origin</dt>\n",
       "\t\t<dd>0</dd>\n",
       "\t<dt>weather</dt>\n",
       "\t\t<dd>0</dd>\n",
       "\t<dt>dayweek</dt>\n",
       "\t\t<dd>0</dd>\n",
       "\t<dt>daymonth</dt>\n",
       "\t\t<dd>0</dd>\n",
       "\t<dt>tailnu</dt>\n",
       "\t\t<dd>0</dd>\n",
       "\t<dt>delay</dt>\n",
       "\t\t<dd>0</dd>\n",
       "</dl>\n"
      ],
      "text/latex": [
       "\\begin{description*}\n",
       "\\item[schedtime] 0\n",
       "\\item[carrier] 0\n",
       "\\item[deptime] 0\n",
       "\\item[dest] 0\n",
       "\\item[distance] 0\n",
       "\\item[date] 0\n",
       "\\item[flightnumber] 0\n",
       "\\item[origin] 0\n",
       "\\item[weather] 0\n",
       "\\item[dayweek] 0\n",
       "\\item[daymonth] 0\n",
       "\\item[tailnu] 0\n",
       "\\item[delay] 0\n",
       "\\end{description*}\n"
      ],
      "text/markdown": [
       "schedtime\n",
       ":   0carrier\n",
       ":   0deptime\n",
       ":   0dest\n",
       ":   0distance\n",
       ":   0date\n",
       ":   0flightnumber\n",
       ":   0origin\n",
       ":   0weather\n",
       ":   0dayweek\n",
       ":   0daymonth\n",
       ":   0tailnu\n",
       ":   0delay\n",
       ":   0\n",
       "\n"
      ],
      "text/plain": [
       "   schedtime      carrier      deptime         dest     distance         date \n",
       "           0            0            0            0            0            0 \n",
       "flightnumber       origin      weather      dayweek     daymonth       tailnu \n",
       "           0            0            0            0            0            0 \n",
       "       delay \n",
       "           0 "
      ]
     },
     "metadata": {},
     "output_type": "display_data"
    }
   ],
   "source": [
    "sapply(data,function(x) { sum(is.na(x))})"
   ]
  },
  {
   "cell_type": "code",
   "execution_count": 102,
   "metadata": {
    "vscode": {
     "languageId": "r"
    }
   },
   "outputs": [
    {
     "name": "stdout",
     "output_type": "stream",
     "text": [
      "Rows: 2,201\n",
      "Columns: 13\n",
      "$ schedtime    <int> 1455, 1640, 1245, 1715, 1039, 840, 1240, 1645, 1715, 2120~\n",
      "$ carrier      <fct> OH, DH, DH, DH, DH, DH, DH, DH, DH, DH, DH, DL, DL, DL, D~\n",
      "$ deptime      <int> 1455, 1640, 1245, 1709, 1035, 839, 1243, 1644, 1710, 2129~\n",
      "$ dest         <fct> JFK, JFK, LGA, LGA, LGA, JFK, JFK, JFK, JFK, JFK, LGA, JF~\n",
      "$ distance     <int> 184, 213, 229, 229, 229, 228, 228, 228, 228, 228, 229, 21~\n",
      "$ date         <fct> 1/1/2004, 1/1/2004, 1/1/2004, 1/1/2004, 1/1/2004, 1/1/200~\n",
      "$ flightnumber <int> 5935, 6155, 7208, 7215, 7792, 7800, 7806, 7810, 7812, 781~\n",
      "$ origin       <fct> BWI, DCA, IAD, IAD, IAD, IAD, IAD, IAD, IAD, IAD, IAD, DC~\n",
      "$ weather      <int> 0, 0, 0, 0, 0, 0, 0, 0, 0, 0, 0, 0, 0, 0, 0, 0, 0, 0, 0, ~\n",
      "$ dayweek      <int> 4, 4, 4, 4, 4, 4, 4, 4, 4, 4, 4, 4, 4, 4, 4, 4, 4, 4, 4, ~\n",
      "$ daymonth     <int> 1, 1, 1, 1, 1, 1, 1, 1, 1, 1, 1, 1, 1, 1, 1, 1, 1, 1, 1, ~\n",
      "$ tailnu       <fct> N940CA, N405FJ, N695BR, N662BR, N698BR, N687BR, N321UE, N~\n",
      "$ delay        <fct> ontime, ontime, ontime, ontime, ontime, ontime, ontime, o~\n"
     ]
    }
   ],
   "source": [
    "library(dplyr)\n",
    "glimpse(data)"
   ]
  },
  {
   "cell_type": "code",
   "execution_count": 103,
   "metadata": {
    "vscode": {
     "languageId": "r"
    }
   },
   "outputs": [
    {
     "data": {
      "text/plain": [
       "\n",
       "  6   7   8   9  10  11  12  13  14  15  16  17  18  19  20  21 \n",
       "126 135 162 108 100  68 142 157 236 154 178 241  85 119  53 137 "
      ]
     },
     "metadata": {},
     "output_type": "display_data"
    }
   ],
   "source": [
    "data$schedtimebin <- floor(data$schedtime/100)\n",
    "table(data$schedtimebin)"
   ]
  },
  {
   "cell_type": "code",
   "execution_count": 104,
   "metadata": {
    "vscode": {
     "languageId": "r"
    }
   },
   "outputs": [
    {
     "data": {
      "text/plain": [
       "\n",
       "  0   1   5   6   7   8   9  10  11  12  13  14  15  16  17  18  19  20  21  22 \n",
       "  1   1  25 166  96 186  72 119  52 193 116 197 169 219 183 136  81  86  88  11 \n",
       " 23 \n",
       "  4 "
      ]
     },
     "metadata": {},
     "output_type": "display_data"
    }
   ],
   "source": [
    "data$deptimebin <- floor(data$deptime/100)\n",
    "table(data$deptimebin)"
   ]
  },
  {
   "cell_type": "code",
   "execution_count": 105,
   "metadata": {
    "vscode": {
     "languageId": "r"
    }
   },
   "outputs": [],
   "source": [
    "data$schedtimebin = as.factor(data$schedtimebin)\n",
    "data$deptimebin = as.factor(data$deptimebin)\n",
    "data$weather = as.factor(data$weather)\n",
    "data$dayweek = as.factor(data$dayweek)\n",
    "data$daymonth = as.factor(data$daymonth)\n",
    "data$flightnumber = as.factor(data$flightnumber)\n",
    "data$delay = recode(data$delay, \"ontime\" = '0', \"delayed\"='1')\n",
    "data$delay <- as.factor(data$delay)"
   ]
  },
  {
   "cell_type": "code",
   "execution_count": 106,
   "metadata": {
    "vscode": {
     "languageId": "r"
    }
   },
   "outputs": [
    {
     "name": "stdout",
     "output_type": "stream",
     "text": [
      "'data.frame':\t2201 obs. of  15 variables:\n",
      " $ schedtime   : int  1455 1640 1245 1715 1039 840 1240 1645 1715 2120 ...\n",
      " $ carrier     : Factor w/ 8 levels \"CO\",\"DH\",\"DL\",..: 5 2 2 2 2 2 2 2 2 2 ...\n",
      " $ deptime     : int  1455 1640 1245 1709 1035 839 1243 1644 1710 2129 ...\n",
      " $ dest        : Factor w/ 3 levels \"EWR\",\"JFK\",\"LGA\": 2 2 3 3 3 2 2 2 2 2 ...\n",
      " $ distance    : int  184 213 229 229 229 228 228 228 228 228 ...\n",
      " $ date        : Factor w/ 31 levels \"1/1/2004\",\"1/10/2004\",..: 1 1 1 1 1 1 1 1 1 1 ...\n",
      " $ flightnumber: Factor w/ 103 levels \"746\",\"806\",\"808\",..: 80 81 82 84 94 95 96 98 99 100 ...\n",
      " $ origin      : Factor w/ 3 levels \"BWI\",\"DCA\",\"IAD\": 1 2 3 3 3 3 3 3 3 3 ...\n",
      " $ weather     : Factor w/ 2 levels \"0\",\"1\": 1 1 1 1 1 1 1 1 1 1 ...\n",
      " $ dayweek     : Factor w/ 7 levels \"1\",\"2\",\"3\",\"4\",..: 4 4 4 4 4 4 4 4 4 4 ...\n",
      " $ daymonth    : Factor w/ 31 levels \"1\",\"2\",\"3\",\"4\",..: 1 1 1 1 1 1 1 1 1 1 ...\n",
      " $ tailnu      : Factor w/ 549 levels \"N10323\",\"N10575\",..: 526 263 382 350 385 374 241 227 246 372 ...\n",
      " $ delay       : Factor w/ 2 levels \"1\",\"0\": 2 2 2 2 2 2 2 2 2 2 ...\n",
      " $ schedtimebin: Factor w/ 16 levels \"6\",\"7\",\"8\",\"9\",..: 9 11 7 12 5 3 7 11 12 16 ...\n",
      " $ deptimebin  : Factor w/ 21 levels \"0\",\"1\",\"5\",\"6\",..: 12 14 10 15 8 6 10 14 15 19 ...\n"
     ]
    }
   ],
   "source": [
    "str(data)"
   ]
  },
  {
   "cell_type": "code",
   "execution_count": 107,
   "metadata": {
    "vscode": {
     "languageId": "r"
    }
   },
   "outputs": [
    {
     "data": {
      "text/html": [
       "<table>\n",
       "<thead><tr><th scope=col>schedtime</th><th scope=col>carrier</th><th scope=col>deptime</th><th scope=col>dest</th><th scope=col>distance</th><th scope=col>date</th><th scope=col>flightnumber</th><th scope=col>origin</th><th scope=col>weather</th><th scope=col>dayweek</th><th scope=col>daymonth</th><th scope=col>tailnu</th><th scope=col>delay</th><th scope=col>schedtimebin</th><th scope=col>deptimebin</th></tr></thead>\n",
       "<tbody>\n",
       "\t<tr><td>1455    </td><td>OH      </td><td>1455    </td><td>JFK     </td><td>184     </td><td>1/1/2004</td><td>5935    </td><td>BWI     </td><td>0       </td><td>4       </td><td>1       </td><td>N940CA  </td><td>0       </td><td>14      </td><td>14      </td></tr>\n",
       "\t<tr><td>1640    </td><td>DH      </td><td>1640    </td><td>JFK     </td><td>213     </td><td>1/1/2004</td><td>6155    </td><td>DCA     </td><td>0       </td><td>4       </td><td>1       </td><td>N405FJ  </td><td>0       </td><td>16      </td><td>16      </td></tr>\n",
       "\t<tr><td>1245    </td><td>DH      </td><td>1245    </td><td>LGA     </td><td>229     </td><td>1/1/2004</td><td>7208    </td><td>IAD     </td><td>0       </td><td>4       </td><td>1       </td><td>N695BR  </td><td>0       </td><td>12      </td><td>12      </td></tr>\n",
       "\t<tr><td>1715    </td><td>DH      </td><td>1709    </td><td>LGA     </td><td>229     </td><td>1/1/2004</td><td>7215    </td><td>IAD     </td><td>0       </td><td>4       </td><td>1       </td><td>N662BR  </td><td>0       </td><td>17      </td><td>17      </td></tr>\n",
       "\t<tr><td>1039    </td><td>DH      </td><td>1035    </td><td>LGA     </td><td>229     </td><td>1/1/2004</td><td>7792    </td><td>IAD     </td><td>0       </td><td>4       </td><td>1       </td><td>N698BR  </td><td>0       </td><td>10      </td><td>10      </td></tr>\n",
       "\t<tr><td> 840    </td><td>DH      </td><td> 839    </td><td>JFK     </td><td>228     </td><td>1/1/2004</td><td>7800    </td><td>IAD     </td><td>0       </td><td>4       </td><td>1       </td><td>N687BR  </td><td>0       </td><td>8       </td><td>8       </td></tr>\n",
       "</tbody>\n",
       "</table>\n"
      ],
      "text/latex": [
       "\\begin{tabular}{r|lllllllllllllll}\n",
       " schedtime & carrier & deptime & dest & distance & date & flightnumber & origin & weather & dayweek & daymonth & tailnu & delay & schedtimebin & deptimebin\\\\\n",
       "\\hline\n",
       "\t 1455     & OH       & 1455     & JFK      & 184      & 1/1/2004 & 5935     & BWI      & 0        & 4        & 1        & N940CA   & 0        & 14       & 14      \\\\\n",
       "\t 1640     & DH       & 1640     & JFK      & 213      & 1/1/2004 & 6155     & DCA      & 0        & 4        & 1        & N405FJ   & 0        & 16       & 16      \\\\\n",
       "\t 1245     & DH       & 1245     & LGA      & 229      & 1/1/2004 & 7208     & IAD      & 0        & 4        & 1        & N695BR   & 0        & 12       & 12      \\\\\n",
       "\t 1715     & DH       & 1709     & LGA      & 229      & 1/1/2004 & 7215     & IAD      & 0        & 4        & 1        & N662BR   & 0        & 17       & 17      \\\\\n",
       "\t 1039     & DH       & 1035     & LGA      & 229      & 1/1/2004 & 7792     & IAD      & 0        & 4        & 1        & N698BR   & 0        & 10       & 10      \\\\\n",
       "\t  840     & DH       &  839     & JFK      & 228      & 1/1/2004 & 7800     & IAD      & 0        & 4        & 1        & N687BR   & 0        & 8        & 8       \\\\\n",
       "\\end{tabular}\n"
      ],
      "text/markdown": [
       "\n",
       "| schedtime | carrier | deptime | dest | distance | date | flightnumber | origin | weather | dayweek | daymonth | tailnu | delay | schedtimebin | deptimebin |\n",
       "|---|---|---|---|---|---|---|---|---|---|---|---|---|---|---|\n",
       "| 1455     | OH       | 1455     | JFK      | 184      | 1/1/2004 | 5935     | BWI      | 0        | 4        | 1        | N940CA   | 0        | 14       | 14       |\n",
       "| 1640     | DH       | 1640     | JFK      | 213      | 1/1/2004 | 6155     | DCA      | 0        | 4        | 1        | N405FJ   | 0        | 16       | 16       |\n",
       "| 1245     | DH       | 1245     | LGA      | 229      | 1/1/2004 | 7208     | IAD      | 0        | 4        | 1        | N695BR   | 0        | 12       | 12       |\n",
       "| 1715     | DH       | 1709     | LGA      | 229      | 1/1/2004 | 7215     | IAD      | 0        | 4        | 1        | N662BR   | 0        | 17       | 17       |\n",
       "| 1039     | DH       | 1035     | LGA      | 229      | 1/1/2004 | 7792     | IAD      | 0        | 4        | 1        | N698BR   | 0        | 10       | 10       |\n",
       "|  840     | DH       |  839     | JFK      | 228      | 1/1/2004 | 7800     | IAD      | 0        | 4        | 1        | N687BR   | 0        | 8        | 8        |\n",
       "\n"
      ],
      "text/plain": [
       "  schedtime carrier deptime dest distance date     flightnumber origin weather\n",
       "1 1455      OH      1455    JFK  184      1/1/2004 5935         BWI    0      \n",
       "2 1640      DH      1640    JFK  213      1/1/2004 6155         DCA    0      \n",
       "3 1245      DH      1245    LGA  229      1/1/2004 7208         IAD    0      \n",
       "4 1715      DH      1709    LGA  229      1/1/2004 7215         IAD    0      \n",
       "5 1039      DH      1035    LGA  229      1/1/2004 7792         IAD    0      \n",
       "6  840      DH       839    JFK  228      1/1/2004 7800         IAD    0      \n",
       "  dayweek daymonth tailnu delay schedtimebin deptimebin\n",
       "1 4       1        N940CA 0     14           14        \n",
       "2 4       1        N405FJ 0     16           16        \n",
       "3 4       1        N695BR 0     12           12        \n",
       "4 4       1        N662BR 0     17           17        \n",
       "5 4       1        N698BR 0     10           10        \n",
       "6 4       1        N687BR 0     8            8         "
      ]
     },
     "metadata": {},
     "output_type": "display_data"
    }
   ],
   "source": [
    "head(data)"
   ]
  },
  {
   "cell_type": "code",
   "execution_count": 108,
   "metadata": {
    "vscode": {
     "languageId": "r"
    }
   },
   "outputs": [],
   "source": [
    "new_df<- subset(data,select=c(schedtimebin,deptimebin,carrier,dest,distance,origin,weather,dayweek,daymonth,delay))"
   ]
  },
  {
   "cell_type": "code",
   "execution_count": 109,
   "metadata": {
    "vscode": {
     "languageId": "r"
    }
   },
   "outputs": [],
   "source": [
    "split = sample(nrow(new_df),nrow(new_df)*.9)\n",
    "train <- new_df[split,]\n",
    "test <- new_df[-split,]"
   ]
  },
  {
   "cell_type": "code",
   "execution_count": 110,
   "metadata": {
    "vscode": {
     "languageId": "r"
    }
   },
   "outputs": [
    {
     "name": "stderr",
     "output_type": "stream",
     "text": [
      "Warning message:\n",
      "\"glm.fit: fitted probabilities numerically 0 or 1 occurred\""
     ]
    }
   ],
   "source": [
    "model <- glm(delay~., data=train,family=\"binomial\")"
   ]
  },
  {
   "cell_type": "code",
   "execution_count": 111,
   "metadata": {
    "vscode": {
     "languageId": "r"
    }
   },
   "outputs": [
    {
     "data": {
      "text/plain": [
       "\n",
       "Call:\n",
       "glm(formula = delay ~ ., family = \"binomial\", data = train)\n",
       "\n",
       "Deviance Residuals: \n",
       "     Min        1Q    Median        3Q       Max  \n",
       "-3.12175   0.06952   0.29746   0.45865   2.37924  \n",
       "\n",
       "Coefficients: (6 not defined because of singularities)\n",
       "                Estimate Std. Error z value Pr(>|z|)    \n",
       "(Intercept)    -672.2171  6783.0561  -0.099 0.921057    \n",
       "schedtimebin7     1.5222     0.5456   2.790 0.005269 ** \n",
       "schedtimebin8     3.3980     0.9384   3.621 0.000294 ***\n",
       "schedtimebin9     6.8997     1.2238   5.638 1.72e-08 ***\n",
       "schedtimebin10   26.1941  1085.2085   0.024 0.980743    \n",
       "schedtimebin11   27.5274  1085.2088   0.025 0.979763    \n",
       "schedtimebin12   44.9674  1714.6957   0.026 0.979078    \n",
       "schedtimebin13   47.9267  1714.6959   0.028 0.977702    \n",
       "schedtimebin14   50.8145  1714.6961   0.030 0.976358    \n",
       "schedtimebin15   53.4639  1714.6962   0.031 0.975126    \n",
       "schedtimebin16   57.2204  1714.6964   0.033 0.973379    \n",
       "schedtimebin17   60.0645  1714.6966   0.035 0.972056    \n",
       "schedtimebin18   78.7448  1856.1551   0.042 0.966161    \n",
       "schedtimebin19   80.4958  1856.1552   0.043 0.965409    \n",
       "schedtimebin20   82.4629  1856.1554   0.044 0.964564    \n",
       "schedtimebin21   84.5369  1856.1556   0.046 0.963674    \n",
       "deptimebin1       0.4076  9224.4041   0.000 0.999965    \n",
       "deptimebin5     106.6701  6781.6025   0.016 0.987450    \n",
       "deptimebin6     105.7335  6781.6024   0.016 0.987561    \n",
       "deptimebin7     104.3634  6781.6024   0.015 0.987722    \n",
       "deptimebin8     102.0499  6781.6023   0.015 0.987994    \n",
       "deptimebin9      98.6166  6781.6023   0.015 0.988398    \n",
       "deptimebin10     80.3620  6694.2104   0.012 0.990422    \n",
       "deptimebin11     78.2821  6694.2104   0.012 0.990670    \n",
       "deptimebin12     60.7431  6561.2459   0.009 0.992613    \n",
       "deptimebin13     57.4411  6561.2459   0.009 0.993015    \n",
       "deptimebin14     54.4196  6561.2459   0.008 0.993382    \n",
       "deptimebin15     51.5235  6561.2458   0.008 0.993735    \n",
       "deptimebin16     48.0175  6561.2458   0.007 0.994161    \n",
       "deptimebin17     44.9827  6561.2458   0.007 0.994530    \n",
       "deptimebin18     26.8927  6522.6389   0.004 0.996710    \n",
       "deptimebin19     23.7505  6522.6389   0.004 0.997095    \n",
       "deptimebin20     22.3942  6522.6389   0.003 0.997261    \n",
       "deptimebin21     20.3884  6522.6388   0.003 0.997506    \n",
       "deptimebin22     -0.3537  6847.4274   0.000 0.999959    \n",
       "deptimebin23     -0.7972  7420.4477   0.000 0.999914    \n",
       "carrierDH         4.1877     0.7318   5.723 1.05e-08 ***\n",
       "carrierDL         5.8308     1.0249   5.689 1.28e-08 ***\n",
       "carrierMQ         3.4509     0.9942   3.471 0.000519 ***\n",
       "carrierOH         4.7963     1.1739   4.086 4.39e-05 ***\n",
       "carrierRU         1.5258     0.5081   3.003 0.002677 ** \n",
       "carrierUA         5.3888     1.2026   4.481 7.43e-06 ***\n",
       "carrierUS         4.4169     1.0332   4.275 1.91e-05 ***\n",
       "destJFK         -49.6823    12.3477  -4.024 5.73e-05 ***\n",
       "destLGA         -53.9620    13.2252  -4.080 4.50e-05 ***\n",
       "distance          3.3466     0.8267   4.048 5.16e-05 ***\n",
       "originDCA       -99.5741    24.7053  -4.030 5.57e-05 ***\n",
       "originIAD      -148.8123    36.5297  -4.074 4.63e-05 ***\n",
       "weather1        -18.2874   979.0287  -0.019 0.985097    \n",
       "dayweek2         -1.0607     0.6079  -1.745 0.081022 .  \n",
       "dayweek3          0.4349     0.5575   0.780 0.435347    \n",
       "dayweek4         17.4619   901.9466   0.019 0.984554    \n",
       "dayweek5          0.6124     0.5665   1.081 0.279684    \n",
       "dayweek6          2.4012     0.8932   2.688 0.007182 ** \n",
       "dayweek7          1.0519     0.6211   1.694 0.090339 .  \n",
       "daymonth2         1.5379     0.7661   2.007 0.044698 *  \n",
       "daymonth3        -0.1865     1.0817  -0.172 0.863113    \n",
       "daymonth4        -0.1603     0.6846  -0.234 0.814850    \n",
       "daymonth5         0.4908     0.5505   0.892 0.372619    \n",
       "daymonth6         2.6030     0.6449   4.036 5.43e-05 ***\n",
       "daymonth7         0.2618     0.5366   0.488 0.625681    \n",
       "daymonth8       -16.2502   901.9466  -0.018 0.985625    \n",
       "daymonth9         0.6299     0.5655   1.114 0.265336    \n",
       "daymonth10       -0.8644     0.9775  -0.884 0.376535    \n",
       "daymonth11        0.9048     0.6976   1.297 0.194629    \n",
       "daymonth12        1.0052     0.5851   1.718 0.085780 .  \n",
       "daymonth13        1.7983     0.6061   2.967 0.003007 ** \n",
       "daymonth14        0.5029     0.5349   0.940 0.347159    \n",
       "daymonth15      -17.4374   901.9466  -0.019 0.984575    \n",
       "daymonth16       -0.6996     0.5294  -1.322 0.186331    \n",
       "daymonth17       -1.7597     0.9213  -1.910 0.056138 .  \n",
       "daymonth18       -1.8226     0.5993  -3.041 0.002355 ** \n",
       "daymonth19        1.3180     0.6028   2.186 0.028785 *  \n",
       "daymonth20        2.5909     0.6383   4.059 4.93e-05 ***\n",
       "daymonth21        0.4431     0.5406   0.820 0.412427    \n",
       "daymonth22      -16.3258   901.9466  -0.018 0.985559    \n",
       "daymonth23        0.2980     0.5600   0.532 0.594665    \n",
       "daymonth24       -1.2943     0.9630  -1.344 0.178970    \n",
       "daymonth25            NA         NA      NA       NA    \n",
       "daymonth26            NA         NA      NA       NA    \n",
       "daymonth27            NA         NA      NA       NA    \n",
       "daymonth28            NA         NA      NA       NA    \n",
       "daymonth29      -16.3600   901.9466  -0.018 0.985528    \n",
       "daymonth30            NA         NA      NA       NA    \n",
       "daymonth31            NA         NA      NA       NA    \n",
       "---\n",
       "Signif. codes:  0 '***' 0.001 '**' 0.01 '*' 0.05 '.' 0.1 ' ' 1\n",
       "\n",
       "(Dispersion parameter for binomial family taken to be 1)\n",
       "\n",
       "    Null deviance: 1939.3  on 1979  degrees of freedom\n",
       "Residual deviance: 1089.1  on 1901  degrees of freedom\n",
       "AIC: 1247.1\n",
       "\n",
       "Number of Fisher Scoring iterations: 17\n"
      ]
     },
     "metadata": {},
     "output_type": "display_data"
    }
   ],
   "source": [
    "summary(model)"
   ]
  },
  {
   "cell_type": "code",
   "execution_count": 112,
   "metadata": {
    "vscode": {
     "languageId": "r"
    }
   },
   "outputs": [
    {
     "data": {
      "text/html": [
       "<table>\n",
       "<thead><tr><th></th><th scope=col>schedtimebin</th><th scope=col>deptimebin</th><th scope=col>carrier</th><th scope=col>dest</th><th scope=col>distance</th><th scope=col>origin</th><th scope=col>weather</th><th scope=col>dayweek</th><th scope=col>daymonth</th><th scope=col>delay</th></tr></thead>\n",
       "<tbody>\n",
       "\t<tr><th scope=row>3</th><td>12 </td><td>12 </td><td>DH </td><td>LGA</td><td>229</td><td>IAD</td><td>0  </td><td>4  </td><td>1  </td><td>0  </td></tr>\n",
       "\t<tr><th scope=row>18</th><td>15 </td><td>15 </td><td>MQ </td><td>JFK</td><td>213</td><td>DCA</td><td>0  </td><td>4  </td><td>1  </td><td>0  </td></tr>\n",
       "\t<tr><th scope=row>23</th><td>14 </td><td>13 </td><td>MQ </td><td>LGA</td><td>214</td><td>DCA</td><td>0  </td><td>4  </td><td>1  </td><td>0  </td></tr>\n",
       "\t<tr><th scope=row>32</th><td>21 </td><td>20 </td><td>US </td><td>LGA</td><td>214</td><td>DCA</td><td>0  </td><td>4  </td><td>1  </td><td>0  </td></tr>\n",
       "\t<tr><th scope=row>43</th><td>17 </td><td>16 </td><td>RU </td><td>EWR</td><td>213</td><td>IAD</td><td>0  </td><td>4  </td><td>1  </td><td>0  </td></tr>\n",
       "\t<tr><th scope=row>44</th><td>19 </td><td>18 </td><td>RU </td><td>EWR</td><td>213</td><td>IAD</td><td>0  </td><td>4  </td><td>1  </td><td>0  </td></tr>\n",
       "</tbody>\n",
       "</table>\n"
      ],
      "text/latex": [
       "\\begin{tabular}{r|llllllllll}\n",
       "  & schedtimebin & deptimebin & carrier & dest & distance & origin & weather & dayweek & daymonth & delay\\\\\n",
       "\\hline\n",
       "\t3 & 12  & 12  & DH  & LGA & 229 & IAD & 0   & 4   & 1   & 0  \\\\\n",
       "\t18 & 15  & 15  & MQ  & JFK & 213 & DCA & 0   & 4   & 1   & 0  \\\\\n",
       "\t23 & 14  & 13  & MQ  & LGA & 214 & DCA & 0   & 4   & 1   & 0  \\\\\n",
       "\t32 & 21  & 20  & US  & LGA & 214 & DCA & 0   & 4   & 1   & 0  \\\\\n",
       "\t43 & 17  & 16  & RU  & EWR & 213 & IAD & 0   & 4   & 1   & 0  \\\\\n",
       "\t44 & 19  & 18  & RU  & EWR & 213 & IAD & 0   & 4   & 1   & 0  \\\\\n",
       "\\end{tabular}\n"
      ],
      "text/markdown": [
       "\n",
       "| <!--/--> | schedtimebin | deptimebin | carrier | dest | distance | origin | weather | dayweek | daymonth | delay |\n",
       "|---|---|---|---|---|---|---|---|---|---|---|\n",
       "| 3 | 12  | 12  | DH  | LGA | 229 | IAD | 0   | 4   | 1   | 0   |\n",
       "| 18 | 15  | 15  | MQ  | JFK | 213 | DCA | 0   | 4   | 1   | 0   |\n",
       "| 23 | 14  | 13  | MQ  | LGA | 214 | DCA | 0   | 4   | 1   | 0   |\n",
       "| 32 | 21  | 20  | US  | LGA | 214 | DCA | 0   | 4   | 1   | 0   |\n",
       "| 43 | 17  | 16  | RU  | EWR | 213 | IAD | 0   | 4   | 1   | 0   |\n",
       "| 44 | 19  | 18  | RU  | EWR | 213 | IAD | 0   | 4   | 1   | 0   |\n",
       "\n"
      ],
      "text/plain": [
       "   schedtimebin deptimebin carrier dest distance origin weather dayweek\n",
       "3  12           12         DH      LGA  229      IAD    0       4      \n",
       "18 15           15         MQ      JFK  213      DCA    0       4      \n",
       "23 14           13         MQ      LGA  214      DCA    0       4      \n",
       "32 21           20         US      LGA  214      DCA    0       4      \n",
       "43 17           16         RU      EWR  213      IAD    0       4      \n",
       "44 19           18         RU      EWR  213      IAD    0       4      \n",
       "   daymonth delay\n",
       "3  1        0    \n",
       "18 1        0    \n",
       "23 1        0    \n",
       "32 1        0    \n",
       "43 1        0    \n",
       "44 1        0    "
      ]
     },
     "metadata": {},
     "output_type": "display_data"
    }
   ],
   "source": [
    "head(test)"
   ]
  },
  {
   "cell_type": "code",
   "execution_count": 113,
   "metadata": {
    "vscode": {
     "languageId": "r"
    }
   },
   "outputs": [],
   "source": [
    "testx <- test[,-c(10)]"
   ]
  },
  {
   "cell_type": "code",
   "execution_count": 114,
   "metadata": {
    "vscode": {
     "languageId": "r"
    }
   },
   "outputs": [],
   "source": [
    "testy <- test[,c(10)]"
   ]
  },
  {
   "cell_type": "code",
   "execution_count": 115,
   "metadata": {
    "vscode": {
     "languageId": "r"
    }
   },
   "outputs": [],
   "source": [
    "x_var = data.frame(testx)\n",
    "y_var = data.frame(testy)"
   ]
  },
  {
   "cell_type": "code",
   "execution_count": 116,
   "metadata": {
    "vscode": {
     "languageId": "r"
    }
   },
   "outputs": [
    {
     "name": "stderr",
     "output_type": "stream",
     "text": [
      "Warning message in predict.lm(object, newdata, se.fit, scale = 1, type = if (type == :\n",
      "\"prediction from a rank-deficient fit may be misleading\""
     ]
    }
   ],
   "source": [
    "pred = predict(model,test,type=\"response\")"
   ]
  },
  {
   "cell_type": "code",
   "execution_count": 117,
   "metadata": {
    "vscode": {
     "languageId": "r"
    }
   },
   "outputs": [],
   "source": [
    "pred <- ifelse(pred>0.7,0,1)"
   ]
  },
  {
   "cell_type": "code",
   "execution_count": 118,
   "metadata": {
    "vscode": {
     "languageId": "r"
    }
   },
   "outputs": [],
   "source": [
    "result<- data.frame(pred, test$delay)"
   ]
  },
  {
   "cell_type": "code",
   "execution_count": 119,
   "metadata": {
    "vscode": {
     "languageId": "r"
    }
   },
   "outputs": [
    {
     "data": {
      "text/html": [
       "<table>\n",
       "<thead><tr><th></th><th scope=col>pred</th><th scope=col>test.delay</th></tr></thead>\n",
       "<tbody>\n",
       "\t<tr><th scope=row>3</th><td>0</td><td>0</td></tr>\n",
       "\t<tr><th scope=row>18</th><td>0</td><td>0</td></tr>\n",
       "\t<tr><th scope=row>23</th><td>0</td><td>0</td></tr>\n",
       "\t<tr><th scope=row>32</th><td>0</td><td>0</td></tr>\n",
       "\t<tr><th scope=row>43</th><td>0</td><td>0</td></tr>\n",
       "\t<tr><th scope=row>44</th><td>0</td><td>0</td></tr>\n",
       "\t<tr><th scope=row>50</th><td>0</td><td>0</td></tr>\n",
       "\t<tr><th scope=row>57</th><td>1</td><td>1</td></tr>\n",
       "\t<tr><th scope=row>72</th><td>0</td><td>0</td></tr>\n",
       "\t<tr><th scope=row>95</th><td>0</td><td>0</td></tr>\n",
       "\t<tr><th scope=row>98</th><td>1</td><td>1</td></tr>\n",
       "\t<tr><th scope=row>105</th><td>0</td><td>0</td></tr>\n",
       "\t<tr><th scope=row>112</th><td>0</td><td>0</td></tr>\n",
       "\t<tr><th scope=row>113</th><td>0</td><td>0</td></tr>\n",
       "\t<tr><th scope=row>117</th><td>0</td><td>0</td></tr>\n",
       "\t<tr><th scope=row>125</th><td>0</td><td>1</td></tr>\n",
       "\t<tr><th scope=row>128</th><td>0</td><td>0</td></tr>\n",
       "\t<tr><th scope=row>137</th><td>0</td><td>0</td></tr>\n",
       "\t<tr><th scope=row>150</th><td>0</td><td>0</td></tr>\n",
       "\t<tr><th scope=row>154</th><td>0</td><td>0</td></tr>\n",
       "\t<tr><th scope=row>184</th><td>0</td><td>0</td></tr>\n",
       "\t<tr><th scope=row>190</th><td>0</td><td>1</td></tr>\n",
       "\t<tr><th scope=row>203</th><td>0</td><td>0</td></tr>\n",
       "\t<tr><th scope=row>207</th><td>0</td><td>0</td></tr>\n",
       "\t<tr><th scope=row>217</th><td>1</td><td>1</td></tr>\n",
       "\t<tr><th scope=row>218</th><td>1</td><td>1</td></tr>\n",
       "\t<tr><th scope=row>238</th><td>1</td><td>1</td></tr>\n",
       "\t<tr><th scope=row>239</th><td>0</td><td>1</td></tr>\n",
       "\t<tr><th scope=row>249</th><td>0</td><td>0</td></tr>\n",
       "\t<tr><th scope=row>251</th><td>0</td><td>0</td></tr>\n",
       "\t<tr><th scope=row>...</th><td>...</td><td>...</td></tr>\n",
       "\t<tr><th scope=row>1908</th><td>1</td><td>1</td></tr>\n",
       "\t<tr><th scope=row>1937</th><td>0</td><td>0</td></tr>\n",
       "\t<tr><th scope=row>1938</th><td>0</td><td>0</td></tr>\n",
       "\t<tr><th scope=row>1941</th><td>0</td><td>1</td></tr>\n",
       "\t<tr><th scope=row>1948</th><td>1</td><td>1</td></tr>\n",
       "\t<tr><th scope=row>1953</th><td>1</td><td>1</td></tr>\n",
       "\t<tr><th scope=row>1954</th><td>1</td><td>1</td></tr>\n",
       "\t<tr><th scope=row>1959</th><td>0</td><td>1</td></tr>\n",
       "\t<tr><th scope=row>1964</th><td>0</td><td>0</td></tr>\n",
       "\t<tr><th scope=row>1989</th><td>1</td><td>1</td></tr>\n",
       "\t<tr><th scope=row>2011</th><td>0</td><td>0</td></tr>\n",
       "\t<tr><th scope=row>2023</th><td>1</td><td>1</td></tr>\n",
       "\t<tr><th scope=row>2028</th><td>0</td><td>1</td></tr>\n",
       "\t<tr><th scope=row>2038</th><td>0</td><td>0</td></tr>\n",
       "\t<tr><th scope=row>2039</th><td>0</td><td>0</td></tr>\n",
       "\t<tr><th scope=row>2040</th><td>0</td><td>0</td></tr>\n",
       "\t<tr><th scope=row>2044</th><td>0</td><td>0</td></tr>\n",
       "\t<tr><th scope=row>2047</th><td>0</td><td>0</td></tr>\n",
       "\t<tr><th scope=row>2048</th><td>1</td><td>0</td></tr>\n",
       "\t<tr><th scope=row>2059</th><td>0</td><td>0</td></tr>\n",
       "\t<tr><th scope=row>2100</th><td>0</td><td>0</td></tr>\n",
       "\t<tr><th scope=row>2112</th><td>0</td><td>0</td></tr>\n",
       "\t<tr><th scope=row>2114</th><td>0</td><td>0</td></tr>\n",
       "\t<tr><th scope=row>2128</th><td>0</td><td>0</td></tr>\n",
       "\t<tr><th scope=row>2131</th><td>1</td><td>0</td></tr>\n",
       "\t<tr><th scope=row>2135</th><td>0</td><td>0</td></tr>\n",
       "\t<tr><th scope=row>2137</th><td>0</td><td>1</td></tr>\n",
       "\t<tr><th scope=row>2169</th><td>0</td><td>0</td></tr>\n",
       "\t<tr><th scope=row>2174</th><td>0</td><td>0</td></tr>\n",
       "\t<tr><th scope=row>2194</th><td>0</td><td>0</td></tr>\n",
       "</tbody>\n",
       "</table>\n"
      ],
      "text/latex": [
       "\\begin{tabular}{r|ll}\n",
       "  & pred & test.delay\\\\\n",
       "\\hline\n",
       "\t3 & 0 & 0\\\\\n",
       "\t18 & 0 & 0\\\\\n",
       "\t23 & 0 & 0\\\\\n",
       "\t32 & 0 & 0\\\\\n",
       "\t43 & 0 & 0\\\\\n",
       "\t44 & 0 & 0\\\\\n",
       "\t50 & 0 & 0\\\\\n",
       "\t57 & 1 & 1\\\\\n",
       "\t72 & 0 & 0\\\\\n",
       "\t95 & 0 & 0\\\\\n",
       "\t98 & 1 & 1\\\\\n",
       "\t105 & 0 & 0\\\\\n",
       "\t112 & 0 & 0\\\\\n",
       "\t113 & 0 & 0\\\\\n",
       "\t117 & 0 & 0\\\\\n",
       "\t125 & 0 & 1\\\\\n",
       "\t128 & 0 & 0\\\\\n",
       "\t137 & 0 & 0\\\\\n",
       "\t150 & 0 & 0\\\\\n",
       "\t154 & 0 & 0\\\\\n",
       "\t184 & 0 & 0\\\\\n",
       "\t190 & 0 & 1\\\\\n",
       "\t203 & 0 & 0\\\\\n",
       "\t207 & 0 & 0\\\\\n",
       "\t217 & 1 & 1\\\\\n",
       "\t218 & 1 & 1\\\\\n",
       "\t238 & 1 & 1\\\\\n",
       "\t239 & 0 & 1\\\\\n",
       "\t249 & 0 & 0\\\\\n",
       "\t251 & 0 & 0\\\\\n",
       "\t... & ... & ...\\\\\n",
       "\t1908 & 1 & 1\\\\\n",
       "\t1937 & 0 & 0\\\\\n",
       "\t1938 & 0 & 0\\\\\n",
       "\t1941 & 0 & 1\\\\\n",
       "\t1948 & 1 & 1\\\\\n",
       "\t1953 & 1 & 1\\\\\n",
       "\t1954 & 1 & 1\\\\\n",
       "\t1959 & 0 & 1\\\\\n",
       "\t1964 & 0 & 0\\\\\n",
       "\t1989 & 1 & 1\\\\\n",
       "\t2011 & 0 & 0\\\\\n",
       "\t2023 & 1 & 1\\\\\n",
       "\t2028 & 0 & 1\\\\\n",
       "\t2038 & 0 & 0\\\\\n",
       "\t2039 & 0 & 0\\\\\n",
       "\t2040 & 0 & 0\\\\\n",
       "\t2044 & 0 & 0\\\\\n",
       "\t2047 & 0 & 0\\\\\n",
       "\t2048 & 1 & 0\\\\\n",
       "\t2059 & 0 & 0\\\\\n",
       "\t2100 & 0 & 0\\\\\n",
       "\t2112 & 0 & 0\\\\\n",
       "\t2114 & 0 & 0\\\\\n",
       "\t2128 & 0 & 0\\\\\n",
       "\t2131 & 1 & 0\\\\\n",
       "\t2135 & 0 & 0\\\\\n",
       "\t2137 & 0 & 1\\\\\n",
       "\t2169 & 0 & 0\\\\\n",
       "\t2174 & 0 & 0\\\\\n",
       "\t2194 & 0 & 0\\\\\n",
       "\\end{tabular}\n"
      ],
      "text/markdown": [
       "\n",
       "| <!--/--> | pred | test.delay |\n",
       "|---|---|---|\n",
       "| 3 | 0 | 0 |\n",
       "| 18 | 0 | 0 |\n",
       "| 23 | 0 | 0 |\n",
       "| 32 | 0 | 0 |\n",
       "| 43 | 0 | 0 |\n",
       "| 44 | 0 | 0 |\n",
       "| 50 | 0 | 0 |\n",
       "| 57 | 1 | 1 |\n",
       "| 72 | 0 | 0 |\n",
       "| 95 | 0 | 0 |\n",
       "| 98 | 1 | 1 |\n",
       "| 105 | 0 | 0 |\n",
       "| 112 | 0 | 0 |\n",
       "| 113 | 0 | 0 |\n",
       "| 117 | 0 | 0 |\n",
       "| 125 | 0 | 1 |\n",
       "| 128 | 0 | 0 |\n",
       "| 137 | 0 | 0 |\n",
       "| 150 | 0 | 0 |\n",
       "| 154 | 0 | 0 |\n",
       "| 184 | 0 | 0 |\n",
       "| 190 | 0 | 1 |\n",
       "| 203 | 0 | 0 |\n",
       "| 207 | 0 | 0 |\n",
       "| 217 | 1 | 1 |\n",
       "| 218 | 1 | 1 |\n",
       "| 238 | 1 | 1 |\n",
       "| 239 | 0 | 1 |\n",
       "| 249 | 0 | 0 |\n",
       "| 251 | 0 | 0 |\n",
       "| ... | ... | ... |\n",
       "| 1908 | 1 | 1 |\n",
       "| 1937 | 0 | 0 |\n",
       "| 1938 | 0 | 0 |\n",
       "| 1941 | 0 | 1 |\n",
       "| 1948 | 1 | 1 |\n",
       "| 1953 | 1 | 1 |\n",
       "| 1954 | 1 | 1 |\n",
       "| 1959 | 0 | 1 |\n",
       "| 1964 | 0 | 0 |\n",
       "| 1989 | 1 | 1 |\n",
       "| 2011 | 0 | 0 |\n",
       "| 2023 | 1 | 1 |\n",
       "| 2028 | 0 | 1 |\n",
       "| 2038 | 0 | 0 |\n",
       "| 2039 | 0 | 0 |\n",
       "| 2040 | 0 | 0 |\n",
       "| 2044 | 0 | 0 |\n",
       "| 2047 | 0 | 0 |\n",
       "| 2048 | 1 | 0 |\n",
       "| 2059 | 0 | 0 |\n",
       "| 2100 | 0 | 0 |\n",
       "| 2112 | 0 | 0 |\n",
       "| 2114 | 0 | 0 |\n",
       "| 2128 | 0 | 0 |\n",
       "| 2131 | 1 | 0 |\n",
       "| 2135 | 0 | 0 |\n",
       "| 2137 | 0 | 1 |\n",
       "| 2169 | 0 | 0 |\n",
       "| 2174 | 0 | 0 |\n",
       "| 2194 | 0 | 0 |\n",
       "\n"
      ],
      "text/plain": [
       "     pred test.delay\n",
       "3    0    0         \n",
       "18   0    0         \n",
       "23   0    0         \n",
       "32   0    0         \n",
       "43   0    0         \n",
       "44   0    0         \n",
       "50   0    0         \n",
       "57   1    1         \n",
       "72   0    0         \n",
       "95   0    0         \n",
       "98   1    1         \n",
       "105  0    0         \n",
       "112  0    0         \n",
       "113  0    0         \n",
       "117  0    0         \n",
       "125  0    1         \n",
       "128  0    0         \n",
       "137  0    0         \n",
       "150  0    0         \n",
       "154  0    0         \n",
       "184  0    0         \n",
       "190  0    1         \n",
       "203  0    0         \n",
       "207  0    0         \n",
       "217  1    1         \n",
       "218  1    1         \n",
       "238  1    1         \n",
       "239  0    1         \n",
       "249  0    0         \n",
       "251  0    0         \n",
       "...  ...  ...       \n",
       "1908 1    1         \n",
       "1937 0    0         \n",
       "1938 0    0         \n",
       "1941 0    1         \n",
       "1948 1    1         \n",
       "1953 1    1         \n",
       "1954 1    1         \n",
       "1959 0    1         \n",
       "1964 0    0         \n",
       "1989 1    1         \n",
       "2011 0    0         \n",
       "2023 1    1         \n",
       "2028 0    1         \n",
       "2038 0    0         \n",
       "2039 0    0         \n",
       "2040 0    0         \n",
       "2044 0    0         \n",
       "2047 0    0         \n",
       "2048 1    0         \n",
       "2059 0    0         \n",
       "2100 0    0         \n",
       "2112 0    0         \n",
       "2114 0    0         \n",
       "2128 0    0         \n",
       "2131 1    0         \n",
       "2135 0    0         \n",
       "2137 0    1         \n",
       "2169 0    0         \n",
       "2174 0    0         \n",
       "2194 0    0         "
      ]
     },
     "metadata": {},
     "output_type": "display_data"
    }
   ],
   "source": [
    "result"
   ]
  },
  {
   "cell_type": "code",
   "execution_count": 120,
   "metadata": {
    "vscode": {
     "languageId": "r"
    }
   },
   "outputs": [],
   "source": [
    "library(mltools)\n",
    "library(caret)"
   ]
  },
  {
   "cell_type": "code",
   "execution_count": 121,
   "metadata": {
    "vscode": {
     "languageId": "r"
    }
   },
   "outputs": [
    {
     "name": "stdout",
     "output_type": "stream",
     "text": [
      "\n",
      "  There is a binary version available but the source version is later:\n",
      "      binary source needs_compilation\n",
      "e1071  1.7-6  1.7-9              TRUE\n",
      "\n",
      "  Binaries will be installed\n"
     ]
    },
    {
     "name": "stderr",
     "output_type": "stream",
     "text": [
      "Warning message:\n",
      "\"package 'e1071' is in use and will not be installed\""
     ]
    }
   ],
   "source": [
    "install.packages(\"e1071\")"
   ]
  },
  {
   "cell_type": "code",
   "execution_count": 122,
   "metadata": {
    "vscode": {
     "languageId": "r"
    }
   },
   "outputs": [],
   "source": [
    "library(e1071)"
   ]
  },
  {
   "cell_type": "code",
   "execution_count": 123,
   "metadata": {
    "vscode": {
     "languageId": "r"
    }
   },
   "outputs": [
    {
     "name": "stderr",
     "output_type": "stream",
     "text": [
      "Warning message:\n",
      "\"package 'ROCit' is in use and will not be installed\""
     ]
    }
   ],
   "source": [
    "install.packages(\"ROCit\")"
   ]
  },
  {
   "cell_type": "code",
   "execution_count": 124,
   "metadata": {
    "vscode": {
     "languageId": "r"
    }
   },
   "outputs": [],
   "source": [
    "library(ROCit)"
   ]
  },
  {
   "cell_type": "code",
   "execution_count": 125,
   "metadata": {
    "vscode": {
     "languageId": "r"
    }
   },
   "outputs": [],
   "source": [
    "precrec_obj<- rocit(score=pred,class=result$test.delay)"
   ]
  },
  {
   "cell_type": "code",
   "execution_count": 126,
   "metadata": {
    "vscode": {
     "languageId": "r"
    }
   },
   "outputs": [
    {
     "data": {
      "image/png": "[encoded data removed]",
      "text/plain": [
       "plot without title"
      ]
     },
     "metadata": {},
     "output_type": "display_data"
    }
   ],
   "source": [
    "plot(precrec_obj)"
   ]
  },
  {
   "cell_type": "code",
   "execution_count": 127,
   "metadata": {
    "vscode": {
     "languageId": "r"
    }
   },
   "outputs": [
    {
     "name": "stderr",
     "output_type": "stream",
     "text": [
      "Warning message in confusionMatrix.default(pred, result$test.delay):\n",
      "\"Levels are not in the same order for reference and data. Refactoring data to match.\""
     ]
    },
    {
     "data": {
      "text/plain": [
       "Confusion Matrix and Statistics\n",
       "\n",
       "          Reference\n",
       "Prediction   1   0\n",
       "         1  33  16\n",
       "         0  14 158\n",
       "                                          \n",
       "               Accuracy : 0.8643          \n",
       "                 95% CI : (0.8119, 0.9065)\n",
       "    No Information Rate : 0.7873          \n",
       "    P-Value [Acc > NIR] : 0.00229         \n",
       "                                          \n",
       "                  Kappa : 0.6008          \n",
       "                                          \n",
       " Mcnemar's Test P-Value : 0.85513         \n",
       "                                          \n",
       "            Sensitivity : 0.7021          \n",
       "            Specificity : 0.9080          \n",
       "         Pos Pred Value : 0.6735          \n",
       "         Neg Pred Value : 0.9186          \n",
       "             Prevalence : 0.2127          \n",
       "         Detection Rate : 0.1493          \n",
       "   Detection Prevalence : 0.2217          \n",
       "      Balanced Accuracy : 0.8051          \n",
       "                                          \n",
       "       'Positive' Class : 1               \n",
       "                                          "
      ]
     },
     "metadata": {},
     "output_type": "display_data"
    }
   ],
   "source": [
    "pred<- as.factor(pred)\n",
    "confusionMatrix(pred, result$test.delay)"
   ]
  }
 ],
 "metadata": {
  "kernelspec": {
   "display_name": "R",
   "language": "R",
   "name": "ir"
  },
  "language_info": {
   "codemirror_mode": "r",
   "file_extension": ".r",
   "mimetype": "text/x-r-source",
   "name": "R",
   "pygments_lexer": "r",
   "version": "3.6.1"
  },
  "orig_nbformat": 4
 },
 "nbformat": 4,
 "nbformat_minor": 2
}
