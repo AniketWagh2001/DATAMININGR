{
 "cells": [
  {
   "cell_type": "code",
   "execution_count": 1,
   "metadata": {
    "vscode": {
     "languageId": "r"
    }
   },
   "outputs": [
    {
     "name": "stdout",
     "output_type": "stream",
     "text": [
      "'data.frame':\t9686 obs. of  28 variables:\n",
      " $ TargetB         : int  0 0 1 1 0 1 0 0 1 0 ...\n",
      " $ ID              : int  14974 6294 46110 185937 29637 112632 123712 45409 19094 178271 ...\n",
      " $ TargetD         : num  NA NA 4 10 NA 11 NA NA 40 NA ...\n",
      " $ GiftCnt36       : int  2 1 6 3 1 3 2 1 1 1 ...\n",
      " $ GiftCntAll      : int  4 8 41 12 1 11 4 4 3 5 ...\n",
      " $ GiftCntCard36   : int  1 0 3 3 1 2 2 0 0 1 ...\n",
      " $ GiftCntCardAll  : int  3 3 20 8 1 9 3 3 1 2 ...\n",
      " $ GiftAvgLast     : num  17 20 6 10 20 11 15 15 35 6 ...\n",
      " $ GiftAvg36       : num  13.5 20 5.17 8.67 20 ...\n",
      " $ GiftAvgAll      : num  9.25 15.88 3.73 8.5 20 ...\n",
      " $ GiftAvgCard36   : num  17 NA 5 8.67 20 8 20 NA NA 20 ...\n",
      " $ GiftTimeLast    : int  21 26 18 9 21 22 17 18 17 18 ...\n",
      " $ GiftTimeFirst   : int  66 92 111 93 21 102 57 90 44 78 ...\n",
      " $ PromCnt12       : int  8 14 12 14 10 11 13 10 15 14 ...\n",
      " $ PromCnt36       : int  17 35 23 22 15 21 34 19 32 28 ...\n",
      " $ PromCntAll      : int  26 79 51 44 13 45 44 40 56 50 ...\n",
      " $ PromCntCard12   : int  3 5 5 2 4 5 6 4 6 5 ...\n",
      " $ PromCntCard36   : int  8 5 11 6 7 10 16 4 6 11 ...\n",
      " $ PromCntCardAll  : int  13 24 22 16 6 22 18 15 22 18 ...\n",
      " $ StatusCat96NK   : Factor w/ 6 levels \"A\",\"E\",\"F\",\"L\",..: 1 1 6 2 3 6 1 1 1 1 ...\n",
      " $ StatusCatStarAll: int  0 0 1 1 0 1 0 0 0 0 ...\n",
      " $ DemCluster      : int  0 23 0 0 35 0 35 8 35 13 ...\n",
      " $ DemAge          : int  NA 67 NA NA 53 47 58 NA NA NA ...\n",
      " $ DemGender       : Factor w/ 3 levels \"F\",\"M\",\"U\": 1 1 2 2 2 2 2 3 1 3 ...\n",
      " $ DemHomeOwner    : Factor w/ 2 levels \"H\",\"U\": 2 2 2 2 2 1 1 2 2 2 ...\n",
      " $ DemMedHomeValue : int  0 186800 87600 139200 168100 253100 234700 207000 137300 180700 ...\n",
      " $ DemPctVeterans  : int  0 85 36 27 37 0 22 44 32 37 ...\n",
      " $ DemMedIncome    : int  0 0 38750 38942 71509 92514 72868 0 0 0 ...\n"
     ]
    }
   ],
   "source": [
    "data<- read.csv(\"pva97nk.csv\")\n",
    "str(data)"
   ]
  },
  {
   "cell_type": "code",
   "execution_count": 2,
   "metadata": {
    "vscode": {
     "languageId": "r"
    }
   },
   "outputs": [
    {
     "data": {
      "text/html": [
       "<dl class=dl-horizontal>\n",
       "\t<dt>TargetB</dt>\n",
       "\t\t<dd>0</dd>\n",
       "\t<dt>ID</dt>\n",
       "\t\t<dd>0</dd>\n",
       "\t<dt>TargetD</dt>\n",
       "\t\t<dd>4843</dd>\n",
       "\t<dt>GiftCnt36</dt>\n",
       "\t\t<dd>0</dd>\n",
       "\t<dt>GiftCntAll</dt>\n",
       "\t\t<dd>0</dd>\n",
       "\t<dt>GiftCntCard36</dt>\n",
       "\t\t<dd>0</dd>\n",
       "\t<dt>GiftCntCardAll</dt>\n",
       "\t\t<dd>0</dd>\n",
       "\t<dt>GiftAvgLast</dt>\n",
       "\t\t<dd>0</dd>\n",
       "\t<dt>GiftAvg36</dt>\n",
       "\t\t<dd>0</dd>\n",
       "\t<dt>GiftAvgAll</dt>\n",
       "\t\t<dd>0</dd>\n",
       "\t<dt>GiftAvgCard36</dt>\n",
       "\t\t<dd>1780</dd>\n",
       "\t<dt>GiftTimeLast</dt>\n",
       "\t\t<dd>0</dd>\n",
       "\t<dt>GiftTimeFirst</dt>\n",
       "\t\t<dd>0</dd>\n",
       "\t<dt>PromCnt12</dt>\n",
       "\t\t<dd>0</dd>\n",
       "\t<dt>PromCnt36</dt>\n",
       "\t\t<dd>0</dd>\n",
       "\t<dt>PromCntAll</dt>\n",
       "\t\t<dd>0</dd>\n",
       "\t<dt>PromCntCard12</dt>\n",
       "\t\t<dd>0</dd>\n",
       "\t<dt>PromCntCard36</dt>\n",
       "\t\t<dd>0</dd>\n",
       "\t<dt>PromCntCardAll</dt>\n",
       "\t\t<dd>0</dd>\n",
       "\t<dt>StatusCat96NK</dt>\n",
       "\t\t<dd>0</dd>\n",
       "\t<dt>StatusCatStarAll</dt>\n",
       "\t\t<dd>0</dd>\n",
       "\t<dt>DemCluster</dt>\n",
       "\t\t<dd>0</dd>\n",
       "\t<dt>DemAge</dt>\n",
       "\t\t<dd>2407</dd>\n",
       "\t<dt>DemGender</dt>\n",
       "\t\t<dd>0</dd>\n",
       "\t<dt>DemHomeOwner</dt>\n",
       "\t\t<dd>0</dd>\n",
       "\t<dt>DemMedHomeValue</dt>\n",
       "\t\t<dd>0</dd>\n",
       "\t<dt>DemPctVeterans</dt>\n",
       "\t\t<dd>0</dd>\n",
       "\t<dt>DemMedIncome</dt>\n",
       "\t\t<dd>0</dd>\n",
       "</dl>\n"
      ],
      "text/latex": [
       "\\begin{description*}\n",
       "\\item[TargetB] 0\n",
       "\\item[ID] 0\n",
       "\\item[TargetD] 4843\n",
       "\\item[GiftCnt36] 0\n",
       "\\item[GiftCntAll] 0\n",
       "\\item[GiftCntCard36] 0\n",
       "\\item[GiftCntCardAll] 0\n",
       "\\item[GiftAvgLast] 0\n",
       "\\item[GiftAvg36] 0\n",
       "\\item[GiftAvgAll] 0\n",
       "\\item[GiftAvgCard36] 1780\n",
       "\\item[GiftTimeLast] 0\n",
       "\\item[GiftTimeFirst] 0\n",
       "\\item[PromCnt12] 0\n",
       "\\item[PromCnt36] 0\n",
       "\\item[PromCntAll] 0\n",
       "\\item[PromCntCard12] 0\n",
       "\\item[PromCntCard36] 0\n",
       "\\item[PromCntCardAll] 0\n",
       "\\item[StatusCat96NK] 0\n",
       "\\item[StatusCatStarAll] 0\n",
       "\\item[DemCluster] 0\n",
       "\\item[DemAge] 2407\n",
       "\\item[DemGender] 0\n",
       "\\item[DemHomeOwner] 0\n",
       "\\item[DemMedHomeValue] 0\n",
       "\\item[DemPctVeterans] 0\n",
       "\\item[DemMedIncome] 0\n",
       "\\end{description*}\n"
      ],
      "text/markdown": [
       "TargetB\n",
       ":   0ID\n",
       ":   0TargetD\n",
       ":   4843GiftCnt36\n",
       ":   0GiftCntAll\n",
       ":   0GiftCntCard36\n",
       ":   0GiftCntCardAll\n",
       ":   0GiftAvgLast\n",
       ":   0GiftAvg36\n",
       ":   0GiftAvgAll\n",
       ":   0GiftAvgCard36\n",
       ":   1780GiftTimeLast\n",
       ":   0GiftTimeFirst\n",
       ":   0PromCnt12\n",
       ":   0PromCnt36\n",
       ":   0PromCntAll\n",
       ":   0PromCntCard12\n",
       ":   0PromCntCard36\n",
       ":   0PromCntCardAll\n",
       ":   0StatusCat96NK\n",
       ":   0StatusCatStarAll\n",
       ":   0DemCluster\n",
       ":   0DemAge\n",
       ":   2407DemGender\n",
       ":   0DemHomeOwner\n",
       ":   0DemMedHomeValue\n",
       ":   0DemPctVeterans\n",
       ":   0DemMedIncome\n",
       ":   0\n",
       "\n"
      ],
      "text/plain": [
       "         TargetB               ID          TargetD        GiftCnt36 \n",
       "               0                0             4843                0 \n",
       "      GiftCntAll    GiftCntCard36   GiftCntCardAll      GiftAvgLast \n",
       "               0                0                0                0 \n",
       "       GiftAvg36       GiftAvgAll    GiftAvgCard36     GiftTimeLast \n",
       "               0                0             1780                0 \n",
       "   GiftTimeFirst        PromCnt12        PromCnt36       PromCntAll \n",
       "               0                0                0                0 \n",
       "   PromCntCard12    PromCntCard36   PromCntCardAll    StatusCat96NK \n",
       "               0                0                0                0 \n",
       "StatusCatStarAll       DemCluster           DemAge        DemGender \n",
       "               0                0             2407                0 \n",
       "    DemHomeOwner  DemMedHomeValue   DemPctVeterans     DemMedIncome \n",
       "               0                0                0                0 "
      ]
     },
     "metadata": {},
     "output_type": "display_data"
    }
   ],
   "source": [
    "sapply(data, function(x) {sum(is.na(x))})\n"
   ]
  },
  {
   "cell_type": "code",
   "execution_count": 3,
   "metadata": {
    "vscode": {
     "languageId": "r"
    }
   },
   "outputs": [],
   "source": [
    "data$TargetD[is.na(data$TargetD)] <- 0 "
   ]
  },
  {
   "cell_type": "code",
   "execution_count": 4,
   "metadata": {
    "vscode": {
     "languageId": "r"
    }
   },
   "outputs": [],
   "source": [
    "data$GiftAvgCard36[is.na(data$GiftAvgCard36)] <- mean(data$GiftAvgCard36, na.rm=TRUE)\n"
   ]
  },
  {
   "cell_type": "code",
   "execution_count": 5,
   "metadata": {
    "vscode": {
     "languageId": "r"
    }
   },
   "outputs": [],
   "source": [
    "data$DemAge[is.na(data$DemAge)] <- mean(data$DemAge, na.rm=TRUE)"
   ]
  },
  {
   "cell_type": "code",
   "execution_count": 6,
   "metadata": {
    "vscode": {
     "languageId": "r"
    }
   },
   "outputs": [],
   "source": [
    "library(moments)"
   ]
  },
  {
   "cell_type": "code",
   "execution_count": 7,
   "metadata": {
    "vscode": {
     "languageId": "r"
    }
   },
   "outputs": [
    {
     "data": {
      "text/html": [
       "4.1700379279157"
      ],
      "text/latex": [
       "4.1700379279157"
      ],
      "text/markdown": [
       "4.1700379279157"
      ],
      "text/plain": [
       "[1] 4.170038"
      ]
     },
     "metadata": {},
     "output_type": "display_data"
    }
   ],
   "source": [
    "skewness(data$TargetD)\n"
   ]
  },
  {
   "cell_type": "code",
   "execution_count": 8,
   "metadata": {
    "vscode": {
     "languageId": "r"
    }
   },
   "outputs": [
    {
     "data": {
      "text/html": [
       "44.6852040150102"
      ],
      "text/latex": [
       "44.6852040150102"
      ],
      "text/markdown": [
       "44.6852040150102"
      ],
      "text/plain": [
       "[1] 44.6852"
      ]
     },
     "metadata": {},
     "output_type": "display_data"
    }
   ],
   "source": [
    "kurtosis(data$TargetD)"
   ]
  },
  {
   "cell_type": "code",
   "execution_count": 9,
   "metadata": {
    "vscode": {
     "languageId": "r"
    }
   },
   "outputs": [
    {
     "data": {
      "image/png": "[encoded data removed]",
      "text/plain": [
       "Plot with title \"Histogram of data$TargetD\""
      ]
     },
     "metadata": {},
     "output_type": "display_data"
    }
   ],
   "source": [
    "hist(data$TargetD)"
   ]
  },
  {
   "cell_type": "code",
   "execution_count": 11,
   "metadata": {
    "vscode": {
     "languageId": "r"
    }
   },
   "outputs": [
    {
     "data": {
      "image/png": "[encoded data removed]",
      "text/plain": [
       "plot without title"
      ]
     },
     "metadata": {},
     "output_type": "display_data"
    }
   ],
   "source": [
    "x = rep(1,nrow(data))\n",
    "plot(x,data$DemAge)"
   ]
  },
  {
   "cell_type": "code",
   "execution_count": 12,
   "metadata": {
    "vscode": {
     "languageId": "r"
    }
   },
   "outputs": [
    {
     "data": {
      "image/png": "[encoded data removed]",
      "text/plain": [
       "Plot with title \"Normal Q-Q Plot\""
      ]
     },
     "metadata": {},
     "output_type": "display_data"
    }
   ],
   "source": [
    "qqnorm(data$DemAge)\n",
    "qqline(data$DemAge)"
   ]
  },
  {
   "cell_type": "code",
   "execution_count": 14,
   "metadata": {
    "vscode": {
     "languageId": "r"
    }
   },
   "outputs": [
    {
     "name": "stdout",
     "output_type": "stream",
     "text": [
      "'data.frame':\t9686 obs. of  28 variables:\n",
      " $ TargetB         : int  0 0 1 1 0 1 0 0 1 0 ...\n",
      " $ ID              : int  14974 6294 46110 185937 29637 112632 123712 45409 19094 178271 ...\n",
      " $ TargetD         : num  0 0 4 10 0 11 0 0 40 0 ...\n",
      " $ GiftCnt36       : int  2 1 6 3 1 3 2 1 1 1 ...\n",
      " $ GiftCntAll      : int  4 8 41 12 1 11 4 4 3 5 ...\n",
      " $ GiftCntCard36   : int  1 0 3 3 1 2 2 0 0 1 ...\n",
      " $ GiftCntCardAll  : int  3 3 20 8 1 9 3 3 1 2 ...\n",
      " $ GiftAvgLast     : num  17 20 6 10 20 11 15 15 35 6 ...\n",
      " $ GiftAvg36       : num  13.5 20 5.17 8.67 20 ...\n",
      " $ GiftAvgAll      : num  9.25 15.88 3.73 8.5 20 ...\n",
      " $ GiftAvgCard36   : num  17 14.22 5 8.67 20 ...\n",
      " $ GiftTimeLast    : int  21 26 18 9 21 22 17 18 17 18 ...\n",
      " $ GiftTimeFirst   : int  66 92 111 93 21 102 57 90 44 78 ...\n",
      " $ PromCnt12       : int  8 14 12 14 10 11 13 10 15 14 ...\n",
      " $ PromCnt36       : int  17 35 23 22 15 21 34 19 32 28 ...\n",
      " $ PromCntAll      : int  26 79 51 44 13 45 44 40 56 50 ...\n",
      " $ PromCntCard12   : int  3 5 5 2 4 5 6 4 6 5 ...\n",
      " $ PromCntCard36   : int  8 5 11 6 7 10 16 4 6 11 ...\n",
      " $ PromCntCardAll  : int  13 24 22 16 6 22 18 15 22 18 ...\n",
      " $ StatusCat96NK   : Factor w/ 6 levels \"A\",\"E\",\"F\",\"L\",..: 1 1 6 2 3 6 1 1 1 1 ...\n",
      " $ StatusCatStarAll: int  0 0 1 1 0 1 0 0 0 0 ...\n",
      " $ DemCluster      : int  0 23 0 0 35 0 35 8 35 13 ...\n",
      " $ DemAge          : num  59.2 67 59.2 59.2 53 ...\n",
      " $ DemGender       : Factor w/ 3 levels \"F\",\"M\",\"U\": 1 1 2 2 2 2 2 3 1 3 ...\n",
      " $ DemHomeOwner    : Factor w/ 2 levels \"H\",\"U\": 2 2 2 2 2 1 1 2 2 2 ...\n",
      " $ DemMedHomeValue : int  0 186800 87600 139200 168100 253100 234700 207000 137300 180700 ...\n",
      " $ DemPctVeterans  : int  0 85 36 27 37 0 22 44 32 37 ...\n",
      " $ DemMedIncome    : int  0 0 38750 38942 71509 92514 72868 0 0 0 ...\n"
     ]
    }
   ],
   "source": [
    "str(data)"
   ]
  },
  {
   "cell_type": "code",
   "execution_count": 17,
   "metadata": {
    "vscode": {
     "languageId": "r"
    }
   },
   "outputs": [
    {
     "data": {
      "text/html": [
       "<table>\n",
       "<thead><tr><th></th><th scope=col>TargetB</th><th scope=col>ID</th><th scope=col>TargetD</th><th scope=col>GiftCnt36</th><th scope=col>GiftCntAll</th></tr></thead>\n",
       "<tbody>\n",
       "\t<tr><th scope=row>TargetB</th><td>1.00000000 </td><td> 0.01680356</td><td> 0.66392322</td><td> 0.13782922</td><td> 0.10866124</td></tr>\n",
       "\t<tr><th scope=row>ID</th><td>0.01680356 </td><td> 1.00000000</td><td> 0.02266167</td><td>-0.05248120</td><td>-0.13354287</td></tr>\n",
       "\t<tr><th scope=row>TargetD</th><td>0.66392322 </td><td> 0.02266167</td><td> 1.00000000</td><td>-0.07901731</td><td>-0.04957748</td></tr>\n",
       "\t<tr><th scope=row>GiftCnt36</th><td>0.13782922 </td><td>-0.05248120</td><td>-0.07901731</td><td> 1.00000000</td><td> 0.55024201</td></tr>\n",
       "\t<tr><th scope=row>GiftCntAll</th><td>0.10866124 </td><td>-0.13354287</td><td>-0.04957748</td><td> 0.55024201</td><td> 1.00000000</td></tr>\n",
       "</tbody>\n",
       "</table>\n"
      ],
      "text/latex": [
       "\\begin{tabular}{r|lllll}\n",
       "  & TargetB & ID & TargetD & GiftCnt36 & GiftCntAll\\\\\n",
       "\\hline\n",
       "\tTargetB & 1.00000000  &  0.01680356 &  0.66392322 &  0.13782922 &  0.10866124\\\\\n",
       "\tID & 0.01680356  &  1.00000000 &  0.02266167 & -0.05248120 & -0.13354287\\\\\n",
       "\tTargetD & 0.66392322  &  0.02266167 &  1.00000000 & -0.07901731 & -0.04957748\\\\\n",
       "\tGiftCnt36 & 0.13782922  & -0.05248120 & -0.07901731 &  1.00000000 &  0.55024201\\\\\n",
       "\tGiftCntAll & 0.10866124  & -0.13354287 & -0.04957748 &  0.55024201 &  1.00000000\\\\\n",
       "\\end{tabular}\n"
      ],
      "text/markdown": [
       "\n",
       "| <!--/--> | TargetB | ID | TargetD | GiftCnt36 | GiftCntAll |\n",
       "|---|---|---|---|---|---|\n",
       "| TargetB | 1.00000000  |  0.01680356 |  0.66392322 |  0.13782922 |  0.10866124 |\n",
       "| ID | 0.01680356  |  1.00000000 |  0.02266167 | -0.05248120 | -0.13354287 |\n",
       "| TargetD | 0.66392322  |  0.02266167 |  1.00000000 | -0.07901731 | -0.04957748 |\n",
       "| GiftCnt36 | 0.13782922  | -0.05248120 | -0.07901731 |  1.00000000 |  0.55024201 |\n",
       "| GiftCntAll | 0.10866124  | -0.13354287 | -0.04957748 |  0.55024201 |  1.00000000 |\n",
       "\n"
      ],
      "text/plain": [
       "           TargetB    ID          TargetD     GiftCnt36   GiftCntAll \n",
       "TargetB    1.00000000  0.01680356  0.66392322  0.13782922  0.10866124\n",
       "ID         0.01680356  1.00000000  0.02266167 -0.05248120 -0.13354287\n",
       "TargetD    0.66392322  0.02266167  1.00000000 -0.07901731 -0.04957748\n",
       "GiftCnt36  0.13782922 -0.05248120 -0.07901731  1.00000000  0.55024201\n",
       "GiftCntAll 0.10866124 -0.13354287 -0.04957748  0.55024201  1.00000000"
      ]
     },
     "metadata": {},
     "output_type": "display_data"
    }
   ],
   "source": [
    "datanum <- data[c(1,2,3,4,5)]\n",
    "cor(datanum)"
   ]
  },
  {
   "cell_type": "code",
   "execution_count": 19,
   "metadata": {
    "vscode": {
     "languageId": "r"
    }
   },
   "outputs": [
    {
     "data": {
      "image/png": "[encoded data removed]",
      "text/plain": [
       "Plot with title \"\""
      ]
     },
     "metadata": {},
     "output_type": "display_data"
    }
   ],
   "source": [
    "library(corrplot)\n",
    "corrplot(cor(datanum))"
   ]
  },
  {
   "cell_type": "code",
   "execution_count": 24,
   "metadata": {
    "vscode": {
     "languageId": "r"
    }
   },
   "outputs": [],
   "source": [
    "dt = (sample(nrow(data),nrow(data)*.7))\n",
    "train<-data[dt,]\n",
    "testdiv<-data[-dt,]"
   ]
  },
  {
   "cell_type": "code",
   "execution_count": 25,
   "metadata": {
    "vscode": {
     "languageId": "r"
    }
   },
   "outputs": [],
   "source": [
    "dtest = (sample(nrow(testdiv),nrow(testdiv)*.5))\n",
    "val<-testdiv[dtest,]\n",
    "test<-testdiv[-dtest,]"
   ]
  },
  {
   "cell_type": "code",
   "execution_count": 26,
   "metadata": {
    "vscode": {
     "languageId": "r"
    }
   },
   "outputs": [
    {
     "data": {
      "text/html": [
       "6780"
      ],
      "text/latex": [
       "6780"
      ],
      "text/markdown": [
       "6780"
      ],
      "text/plain": [
       "[1] 6780"
      ]
     },
     "metadata": {},
     "output_type": "display_data"
    },
    {
     "data": {
      "text/html": [
       "1453"
      ],
      "text/latex": [
       "1453"
      ],
      "text/markdown": [
       "1453"
      ],
      "text/plain": [
       "[1] 1453"
      ]
     },
     "metadata": {},
     "output_type": "display_data"
    },
    {
     "data": {
      "text/html": [
       "1453"
      ],
      "text/latex": [
       "1453"
      ],
      "text/markdown": [
       "1453"
      ],
      "text/plain": [
       "[1] 1453"
      ]
     },
     "metadata": {},
     "output_type": "display_data"
    }
   ],
   "source": [
    "nrow(train)\n",
    "nrow(test)\n",
    "nrow(val)"
   ]
  }
 ],
 "metadata": {
  "kernelspec": {
   "display_name": "R",
   "language": "R",
   "name": "ir"
  },
  "language_info": {
   "codemirror_mode": "r",
   "file_extension": ".r",
   "mimetype": "text/x-r-source",
   "name": "R",
   "pygments_lexer": "r",
   "version": "3.6.1"
  },
  "orig_nbformat": 4
 },
 "nbformat": 4,
 "nbformat_minor": 2
}
