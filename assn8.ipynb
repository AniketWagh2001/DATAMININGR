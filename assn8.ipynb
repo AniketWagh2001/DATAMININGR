{
 "cells": [
  {
   "cell_type": "code",
   "execution_count": 2,
   "metadata": {
    "vscode": {
     "languageId": "r"
    }
   },
   "outputs": [
    {
     "data": {
      "text/html": [
       "<table>\n",
       "<thead><tr><th scope=col>Country</th><th scope=col>RedMeat</th><th scope=col>WhiteMeat</th><th scope=col>Eggs</th><th scope=col>Milk</th><th scope=col>Fish</th><th scope=col>Cereals</th><th scope=col>Starch</th><th scope=col>Nuts</th><th scope=col>Fr.Veg</th></tr></thead>\n",
       "<tbody>\n",
       "\t<tr><td>Albania       </td><td>10.1          </td><td> 1.4          </td><td>0.5           </td><td> 8.9          </td><td>0.2           </td><td>42.3          </td><td>0.6           </td><td>5.5           </td><td>1.7           </td></tr>\n",
       "\t<tr><td>Austria       </td><td> 8.9          </td><td>14.0          </td><td>4.3           </td><td>19.9          </td><td>2.1           </td><td>28.0          </td><td>3.6           </td><td>1.3           </td><td>4.3           </td></tr>\n",
       "\t<tr><td>Belgium       </td><td>13.5          </td><td> 9.3          </td><td>4.1           </td><td>17.5          </td><td>4.5           </td><td>26.6          </td><td>5.7           </td><td>2.1           </td><td>4.0           </td></tr>\n",
       "\t<tr><td>Bulgaria      </td><td> 7.8          </td><td> 6.0          </td><td>1.6           </td><td> 8.3          </td><td>1.2           </td><td>56.7          </td><td>1.1           </td><td>3.7           </td><td>4.2           </td></tr>\n",
       "\t<tr><td>Czechoslovakia</td><td> 9.7          </td><td>11.4          </td><td>2.8           </td><td>12.5          </td><td>2.0           </td><td>34.3          </td><td>5.0           </td><td>1.1           </td><td>4.0           </td></tr>\n",
       "\t<tr><td>Denmark       </td><td>10.6          </td><td>10.8          </td><td>3.7           </td><td>25.0          </td><td>9.9           </td><td>21.9          </td><td>4.8           </td><td>0.7           </td><td>2.4           </td></tr>\n",
       "</tbody>\n",
       "</table>\n"
      ],
      "text/latex": [
       "\\begin{tabular}{r|llllllllll}\n",
       " Country & RedMeat & WhiteMeat & Eggs & Milk & Fish & Cereals & Starch & Nuts & Fr.Veg\\\\\n",
       "\\hline\n",
       "\t Albania        & 10.1           &  1.4           & 0.5            &  8.9           & 0.2            & 42.3           & 0.6            & 5.5            & 1.7           \\\\\n",
       "\t Austria        &  8.9           & 14.0           & 4.3            & 19.9           & 2.1            & 28.0           & 3.6            & 1.3            & 4.3           \\\\\n",
       "\t Belgium        & 13.5           &  9.3           & 4.1            & 17.5           & 4.5            & 26.6           & 5.7            & 2.1            & 4.0           \\\\\n",
       "\t Bulgaria       &  7.8           &  6.0           & 1.6            &  8.3           & 1.2            & 56.7           & 1.1            & 3.7            & 4.2           \\\\\n",
       "\t Czechoslovakia &  9.7           & 11.4           & 2.8            & 12.5           & 2.0            & 34.3           & 5.0            & 1.1            & 4.0           \\\\\n",
       "\t Denmark        & 10.6           & 10.8           & 3.7            & 25.0           & 9.9            & 21.9           & 4.8            & 0.7            & 2.4           \\\\\n",
       "\\end{tabular}\n"
      ],
      "text/markdown": [
       "\n",
       "| Country | RedMeat | WhiteMeat | Eggs | Milk | Fish | Cereals | Starch | Nuts | Fr.Veg |\n",
       "|---|---|---|---|---|---|---|---|---|---|\n",
       "| Albania        | 10.1           |  1.4           | 0.5            |  8.9           | 0.2            | 42.3           | 0.6            | 5.5            | 1.7            |\n",
       "| Austria        |  8.9           | 14.0           | 4.3            | 19.9           | 2.1            | 28.0           | 3.6            | 1.3            | 4.3            |\n",
       "| Belgium        | 13.5           |  9.3           | 4.1            | 17.5           | 4.5            | 26.6           | 5.7            | 2.1            | 4.0            |\n",
       "| Bulgaria       |  7.8           |  6.0           | 1.6            |  8.3           | 1.2            | 56.7           | 1.1            | 3.7            | 4.2            |\n",
       "| Czechoslovakia |  9.7           | 11.4           | 2.8            | 12.5           | 2.0            | 34.3           | 5.0            | 1.1            | 4.0            |\n",
       "| Denmark        | 10.6           | 10.8           | 3.7            | 25.0           | 9.9            | 21.9           | 4.8            | 0.7            | 2.4            |\n",
       "\n"
      ],
      "text/plain": [
       "  Country        RedMeat WhiteMeat Eggs Milk Fish Cereals Starch Nuts Fr.Veg\n",
       "1 Albania        10.1     1.4      0.5   8.9 0.2  42.3    0.6    5.5  1.7   \n",
       "2 Austria         8.9    14.0      4.3  19.9 2.1  28.0    3.6    1.3  4.3   \n",
       "3 Belgium        13.5     9.3      4.1  17.5 4.5  26.6    5.7    2.1  4.0   \n",
       "4 Bulgaria        7.8     6.0      1.6   8.3 1.2  56.7    1.1    3.7  4.2   \n",
       "5 Czechoslovakia  9.7    11.4      2.8  12.5 2.0  34.3    5.0    1.1  4.0   \n",
       "6 Denmark        10.6    10.8      3.7  25.0 9.9  21.9    4.8    0.7  2.4   "
      ]
     },
     "metadata": {},
     "output_type": "display_data"
    }
   ],
   "source": [
    "data<- read.csv(\"protein.csv\")\n",
    "head(data)"
   ]
  },
  {
   "cell_type": "code",
   "execution_count": 3,
   "metadata": {
    "vscode": {
     "languageId": "r"
    }
   },
   "outputs": [
    {
     "name": "stderr",
     "output_type": "stream",
     "text": [
      "Warning message:\n",
      "\"package 'dplyr' was built under R version 3.6.3\"\n",
      "Attaching package: 'dplyr'\n",
      "\n",
      "The following objects are masked from 'package:stats':\n",
      "\n",
      "    filter, lag\n",
      "\n",
      "The following objects are masked from 'package:base':\n",
      "\n",
      "    intersect, setdiff, setequal, union\n",
      "\n"
     ]
    },
    {
     "name": "stdout",
     "output_type": "stream",
     "text": [
      "Rows: 25\n",
      "Columns: 10\n",
      "$ Country   <fct> Albania, Austria, Belgium, Bulgaria, Czechoslovakia, Denmark~\n",
      "$ RedMeat   <dbl> 10.1, 8.9, 13.5, 7.8, 9.7, 10.6, 8.4, 9.5, 18.0, 10.2, 5.3, ~\n",
      "$ WhiteMeat <dbl> 1.4, 14.0, 9.3, 6.0, 11.4, 10.8, 11.6, 4.9, 9.9, 3.0, 12.4, ~\n",
      "$ Eggs      <dbl> 0.5, 4.3, 4.1, 1.6, 2.8, 3.7, 3.7, 2.7, 3.3, 2.8, 2.9, 4.7, ~\n",
      "$ Milk      <dbl> 8.9, 19.9, 17.5, 8.3, 12.5, 25.0, 11.1, 33.7, 19.5, 17.6, 9.~\n",
      "$ Fish      <dbl> 0.2, 2.1, 4.5, 1.2, 2.0, 9.9, 5.4, 5.8, 5.7, 5.9, 0.3, 2.2, ~\n",
      "$ Cereals   <dbl> 42.3, 28.0, 26.6, 56.7, 34.3, 21.9, 24.6, 26.3, 28.1, 41.7, ~\n",
      "$ Starch    <dbl> 0.6, 3.6, 5.7, 1.1, 5.0, 4.8, 6.5, 5.1, 4.8, 2.2, 4.0, 6.2, ~\n",
      "$ Nuts      <dbl> 5.5, 1.3, 2.1, 3.7, 1.1, 0.7, 0.8, 1.0, 2.4, 7.8, 5.4, 1.6, ~\n",
      "$ Fr.Veg    <dbl> 1.7, 4.3, 4.0, 4.2, 4.0, 2.4, 3.6, 1.4, 6.5, 6.5, 4.2, 2.9, ~\n"
     ]
    }
   ],
   "source": [
    "library(dplyr)\n",
    "glimpse(data)"
   ]
  },
  {
   "cell_type": "code",
   "execution_count": 4,
   "metadata": {
    "vscode": {
     "languageId": "r"
    }
   },
   "outputs": [],
   "source": [
    "data1<-data[c(2,3,4,5,6,7)]"
   ]
  },
  {
   "cell_type": "code",
   "execution_count": 15,
   "metadata": {
    "vscode": {
     "languageId": "r"
    }
   },
   "outputs": [],
   "source": [
    "library(purrr)"
   ]
  },
  {
   "cell_type": "code",
   "execution_count": 16,
   "metadata": {
    "vscode": {
     "languageId": "r"
    }
   },
   "outputs": [
    {
     "data": {
      "image/png": "[encoded data removed]",
      "text/plain": [
       "plot without title"
      ]
     },
     "metadata": {},
     "output_type": "display_data"
    }
   ],
   "source": [
    "wss <- function(k){\n",
    "    kmeans(data1,k,nstart=10)$tot.withinss\n",
    "} \n",
    "k.values <- 1:8\n",
    "\n",
    "wss_values<-map_dbl(k.values,wss)\n",
    "plot(k.values,wss_values,\n",
    "    type=\"b\", pch=19,frame=FALSE,\n",
    "    xlab=\"numberof clusters K\",\n",
    "    ylab=\"Total within-clusters sum of squares\")"
   ]
  },
  {
   "cell_type": "code",
   "execution_count": 5,
   "metadata": {
    "vscode": {
     "languageId": "r"
    }
   },
   "outputs": [
    {
     "data": {
      "text/plain": [
       "K-means clustering with 3 clusters of sizes 6, 12, 7\n",
       "\n",
       "Cluster means:\n",
       "    RedMeat WhiteMeat     Eggs Milk     Fish  Cereals\n",
       "1  8.000000  4.383333 1.616667 12.0 1.983333 48.30000\n",
       "2 12.091667  9.441667 3.708333 23.0 4.991667 24.02500\n",
       "3  7.514286  8.257143 2.742857 11.4 5.042857 32.58571\n",
       "\n",
       "Clustering vector:\n",
       " [1] 1 2 2 1 3 2 3 2 2 1 3 2 3 2 2 3 3 1 3 2 2 2 1 2 1\n",
       "\n",
       "Within cluster sum of squares by cluster:\n",
       "[1] 385.3650 620.0992 559.4286\n",
       " (between_SS / total_SS =  68.7 %)\n",
       "\n",
       "Available components:\n",
       "\n",
       "[1] \"cluster\"      \"centers\"      \"totss\"        \"withinss\"     \"tot.withinss\"\n",
       "[6] \"betweenss\"    \"size\"         \"iter\"         \"ifault\"      "
      ]
     },
     "metadata": {},
     "output_type": "display_data"
    }
   ],
   "source": [
    "kmeans.re<-kmeans(data1,3,nstart=20)\n",
    "kmeans.re"
   ]
  },
  {
   "cell_type": "code",
   "execution_count": 11,
   "metadata": {
    "vscode": {
     "languageId": "r"
    }
   },
   "outputs": [
    {
     "data": {
      "text/html": [
       "<table>\n",
       "<thead><tr><th scope=col>RedMeat</th><th scope=col>WhiteMeat</th><th scope=col>Eggs</th><th scope=col>Milk</th><th scope=col>Fish</th><th scope=col>Cereals</th></tr></thead>\n",
       "<tbody>\n",
       "\t<tr><td>10.1</td><td> 1.4</td><td>0.5 </td><td> 8.9</td><td>0.2 </td><td>42.3</td></tr>\n",
       "\t<tr><td> 8.9</td><td>14.0</td><td>4.3 </td><td>19.9</td><td>2.1 </td><td>28.0</td></tr>\n",
       "\t<tr><td>13.5</td><td> 9.3</td><td>4.1 </td><td>17.5</td><td>4.5 </td><td>26.6</td></tr>\n",
       "\t<tr><td> 7.8</td><td> 6.0</td><td>1.6 </td><td> 8.3</td><td>1.2 </td><td>56.7</td></tr>\n",
       "\t<tr><td> 9.7</td><td>11.4</td><td>2.8 </td><td>12.5</td><td>2.0 </td><td>34.3</td></tr>\n",
       "\t<tr><td>10.6</td><td>10.8</td><td>3.7 </td><td>25.0</td><td>9.9 </td><td>21.9</td></tr>\n",
       "</tbody>\n",
       "</table>\n"
      ],
      "text/latex": [
       "\\begin{tabular}{r|llllll}\n",
       " RedMeat & WhiteMeat & Eggs & Milk & Fish & Cereals\\\\\n",
       "\\hline\n",
       "\t 10.1 &  1.4 & 0.5  &  8.9 & 0.2  & 42.3\\\\\n",
       "\t  8.9 & 14.0 & 4.3  & 19.9 & 2.1  & 28.0\\\\\n",
       "\t 13.5 &  9.3 & 4.1  & 17.5 & 4.5  & 26.6\\\\\n",
       "\t  7.8 &  6.0 & 1.6  &  8.3 & 1.2  & 56.7\\\\\n",
       "\t  9.7 & 11.4 & 2.8  & 12.5 & 2.0  & 34.3\\\\\n",
       "\t 10.6 & 10.8 & 3.7  & 25.0 & 9.9  & 21.9\\\\\n",
       "\\end{tabular}\n"
      ],
      "text/markdown": [
       "\n",
       "| RedMeat | WhiteMeat | Eggs | Milk | Fish | Cereals |\n",
       "|---|---|---|---|---|---|\n",
       "| 10.1 |  1.4 | 0.5  |  8.9 | 0.2  | 42.3 |\n",
       "|  8.9 | 14.0 | 4.3  | 19.9 | 2.1  | 28.0 |\n",
       "| 13.5 |  9.3 | 4.1  | 17.5 | 4.5  | 26.6 |\n",
       "|  7.8 |  6.0 | 1.6  |  8.3 | 1.2  | 56.7 |\n",
       "|  9.7 | 11.4 | 2.8  | 12.5 | 2.0  | 34.3 |\n",
       "| 10.6 | 10.8 | 3.7  | 25.0 | 9.9  | 21.9 |\n",
       "\n"
      ],
      "text/plain": [
       "  RedMeat WhiteMeat Eggs Milk Fish Cereals\n",
       "1 10.1     1.4      0.5   8.9 0.2  42.3   \n",
       "2  8.9    14.0      4.3  19.9 2.1  28.0   \n",
       "3 13.5     9.3      4.1  17.5 4.5  26.6   \n",
       "4  7.8     6.0      1.6   8.3 1.2  56.7   \n",
       "5  9.7    11.4      2.8  12.5 2.0  34.3   \n",
       "6 10.6    10.8      3.7  25.0 9.9  21.9   "
      ]
     },
     "metadata": {},
     "output_type": "display_data"
    }
   ],
   "source": [
    "head(data1)"
   ]
  },
  {
   "cell_type": "code",
   "execution_count": 8,
   "metadata": {
    "vscode": {
     "languageId": "r"
    }
   },
   "outputs": [],
   "source": [
    "library(cluster)"
   ]
  },
  {
   "cell_type": "code",
   "execution_count": 12,
   "metadata": {
    "vscode": {
     "languageId": "r"
    }
   },
   "outputs": [
    {
     "data": {
      "image/png": "[encoded data removed]",
      "text/plain": [
       "Plot with title \"PROTINE INTAKE\""
      ]
     },
     "metadata": {},
     "output_type": "display_data"
    }
   ],
   "source": [
    "y_kmeans <- kmeans.re$cluster\n",
    "clusplot(data1[, c(\"RedMeat\",\"WhiteMeat\",\"Eggs\",\"Milk\",\"Fish\",\"Cereals\")],\n",
    "         y_kmeans,\n",
    "         lines = 0,\n",
    "         shade = TRUE,\n",
    "         color = TRUE,\n",
    "         labels = 2,\n",
    "         plotchar = FALSE,\n",
    "         span = TRUE,\n",
    "         main = paste(\"PROTINE INTAKE\"))"
   ]
  }
 ],
 "metadata": {
  "kernelspec": {
   "display_name": "R",
   "language": "R",
   "name": "ir"
  },
  "language_info": {
   "codemirror_mode": "r",
   "file_extension": ".r",
   "mimetype": "text/x-r-source",
   "name": "R",
   "pygments_lexer": "r",
   "version": "3.6.1"
  },
  "orig_nbformat": 4
 },
 "nbformat": 4,
 "nbformat_minor": 2
}
