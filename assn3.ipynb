{
 "cells": [
  {
   "cell_type": "code",
   "execution_count": 1,
   "metadata": {
    "vscode": {
     "languageId": "r"
    }
   },
   "outputs": [],
   "source": [
    "data<-read.csv(\"TC.csv\")"
   ]
  },
  {
   "cell_type": "code",
   "execution_count": 2,
   "metadata": {
    "vscode": {
     "languageId": "r"
    }
   },
   "outputs": [
    {
     "name": "stdout",
     "output_type": "stream",
     "text": [
      "'data.frame':\t1436 obs. of  10 variables:\n",
      " $ Price    : int  13500 13750 13950 14950 13750 12950 16900 18600 21500 12950 ...\n",
      " $ Age      : int  23 23 24 26 30 32 27 30 27 23 ...\n",
      " $ KM       : int  46986 72937 41711 48000 38500 61000 94612 75889 19700 71138 ...\n",
      " $ FuelType : Factor w/ 3 levels \"CNG\",\"Diesel\",..: 2 2 2 2 2 2 2 2 3 2 ...\n",
      " $ HP       : int  90 90 90 90 90 90 90 90 192 69 ...\n",
      " $ MetColor : int  1 1 1 0 0 0 1 1 0 0 ...\n",
      " $ Automatic: int  0 0 0 0 0 0 0 0 0 0 ...\n",
      " $ CC       : int  2000 2000 2000 2000 2000 2000 2000 2000 1800 1900 ...\n",
      " $ Doors    : int  3 3 3 3 3 3 3 3 3 3 ...\n",
      " $ Weight   : int  1165 1165 1165 1165 1170 1170 1245 1245 1185 1105 ...\n"
     ]
    }
   ],
   "source": [
    "str(data)"
   ]
  },
  {
   "cell_type": "code",
   "execution_count": 3,
   "metadata": {
    "vscode": {
     "languageId": "r"
    }
   },
   "outputs": [
    {
     "data": {
      "text/html": [
       "<dl class=dl-horizontal>\n",
       "\t<dt>Price</dt>\n",
       "\t\t<dd>0</dd>\n",
       "\t<dt>Age</dt>\n",
       "\t\t<dd>0</dd>\n",
       "\t<dt>KM</dt>\n",
       "\t\t<dd>0</dd>\n",
       "\t<dt>FuelType</dt>\n",
       "\t\t<dd>0</dd>\n",
       "\t<dt>HP</dt>\n",
       "\t\t<dd>0</dd>\n",
       "\t<dt>MetColor</dt>\n",
       "\t\t<dd>0</dd>\n",
       "\t<dt>Automatic</dt>\n",
       "\t\t<dd>0</dd>\n",
       "\t<dt>CC</dt>\n",
       "\t\t<dd>0</dd>\n",
       "\t<dt>Doors</dt>\n",
       "\t\t<dd>0</dd>\n",
       "\t<dt>Weight</dt>\n",
       "\t\t<dd>0</dd>\n",
       "</dl>\n"
      ],
      "text/latex": [
       "\\begin{description*}\n",
       "\\item[Price] 0\n",
       "\\item[Age] 0\n",
       "\\item[KM] 0\n",
       "\\item[FuelType] 0\n",
       "\\item[HP] 0\n",
       "\\item[MetColor] 0\n",
       "\\item[Automatic] 0\n",
       "\\item[CC] 0\n",
       "\\item[Doors] 0\n",
       "\\item[Weight] 0\n",
       "\\end{description*}\n"
      ],
      "text/markdown": [
       "Price\n",
       ":   0Age\n",
       ":   0KM\n",
       ":   0FuelType\n",
       ":   0HP\n",
       ":   0MetColor\n",
       ":   0Automatic\n",
       ":   0CC\n",
       ":   0Doors\n",
       ":   0Weight\n",
       ":   0\n",
       "\n"
      ],
      "text/plain": [
       "    Price       Age        KM  FuelType        HP  MetColor Automatic        CC \n",
       "        0         0         0         0         0         0         0         0 \n",
       "    Doors    Weight \n",
       "        0         0 "
      ]
     },
     "metadata": {},
     "output_type": "display_data"
    }
   ],
   "source": [
    "sapply(data, function(x) {sum(is.na(x))})"
   ]
  },
  {
   "cell_type": "code",
   "execution_count": 6,
   "metadata": {
    "vscode": {
     "languageId": "r"
    }
   },
   "outputs": [
    {
     "name": "stderr",
     "output_type": "stream",
     "text": [
      "also installing the dependencies 'glue', 'cli', 'lifecycle', 'rlang', 'vctrs', 'pillar'\n",
      "\n"
     ]
    },
    {
     "name": "stdout",
     "output_type": "stream",
     "text": [
      "\n",
      "  There are binary versions available but the source versions are later:\n",
      "          binary source needs_compilation\n",
      "glue       1.4.2  1.6.2              TRUE\n",
      "cli        2.5.0  3.3.0              TRUE\n",
      "lifecycle  1.0.0  1.0.1             FALSE\n",
      "rlang     0.4.11  1.0.2              TRUE\n",
      "vctrs      0.3.8  0.4.1              TRUE\n",
      "pillar     1.6.0  1.7.0             FALSE\n",
      "dplyr      1.0.6  1.0.9              TRUE\n",
      "\n",
      "  Binaries will be installed\n",
      "package 'glue' successfully unpacked and MD5 sums checked\n",
      "package 'cli' successfully unpacked and MD5 sums checked\n",
      "package 'rlang' successfully unpacked and MD5 sums checked\n",
      "package 'vctrs' successfully unpacked and MD5 sums checked\n",
      "package 'dplyr' successfully unpacked and MD5 sums checked\n",
      "\n",
      "The downloaded binary packages are in\n",
      "\tC:\\Users\\anike\\AppData\\Local\\Temp\\RtmpsXyV7B\\downloaded_packages\n"
     ]
    },
    {
     "name": "stderr",
     "output_type": "stream",
     "text": [
      "installing the source packages 'lifecycle', 'pillar'\n",
      "\n"
     ]
    }
   ],
   "source": [
    "install.packages(\"dplyr\")"
   ]
  },
  {
   "cell_type": "code",
   "execution_count": 7,
   "metadata": {
    "vscode": {
     "languageId": "r"
    }
   },
   "outputs": [
    {
     "name": "stderr",
     "output_type": "stream",
     "text": [
      "Warning message:\n",
      "\"package 'dplyr' was built under R version 3.6.3\"\n",
      "Attaching package: 'dplyr'\n",
      "\n",
      "The following objects are masked from 'package:stats':\n",
      "\n",
      "    filter, lag\n",
      "\n",
      "The following objects are masked from 'package:base':\n",
      "\n",
      "    intersect, setdiff, setequal, union\n",
      "\n"
     ]
    }
   ],
   "source": [
    "library(dplyr)"
   ]
  },
  {
   "cell_type": "code",
   "execution_count": null,
   "metadata": {
    "vscode": {
     "languageId": "r"
    }
   },
   "outputs": [],
   "source": [
    "rename(data,Cost=Price)"
   ]
  },
  {
   "cell_type": "code",
   "execution_count": null,
   "metadata": {
    "vscode": {
     "languageId": "r"
    }
   },
   "outputs": [],
   "source": [
    "select(data,Age,Price)"
   ]
  },
  {
   "cell_type": "code",
   "execution_count": 21,
   "metadata": {
    "vscode": {
     "languageId": "r"
    }
   },
   "outputs": [
    {
     "data": {
      "text/html": [
       "<table>\n",
       "<thead><tr><th scope=col>Price</th><th scope=col>Age</th><th scope=col>KM</th><th scope=col>FuelType</th><th scope=col>HP</th><th scope=col>MetColor</th><th scope=col>Automatic</th><th scope=col>CC</th><th scope=col>Doors</th><th scope=col>Weight</th></tr></thead>\n",
       "<tbody>\n",
       "\t<tr><td>17450 </td><td>18    </td><td>23902 </td><td>Petrol</td><td>97    </td><td>1     </td><td>0     </td><td>1400  </td><td>3     </td><td>1100  </td></tr>\n",
       "</tbody>\n",
       "</table>\n"
      ],
      "text/latex": [
       "\\begin{tabular}{r|llllllllll}\n",
       " Price & Age & KM & FuelType & HP & MetColor & Automatic & CC & Doors & Weight\\\\\n",
       "\\hline\n",
       "\t 17450  & 18     & 23902  & Petrol & 97     & 1      & 0      & 1400   & 3      & 1100  \\\\\n",
       "\\end{tabular}\n"
      ],
      "text/markdown": [
       "\n",
       "| Price | Age | KM | FuelType | HP | MetColor | Automatic | CC | Doors | Weight |\n",
       "|---|---|---|---|---|---|---|---|---|---|\n",
       "| 17450  | 18     | 23902  | Petrol | 97     | 1      | 0      | 1400   | 3      | 1100   |\n",
       "\n"
      ],
      "text/plain": [
       "  Price Age KM    FuelType HP MetColor Automatic CC   Doors Weight\n",
       "1 17450 18  23902 Petrol   97 1        0         1400 3     1100  "
      ]
     },
     "metadata": {},
     "output_type": "display_data"
    }
   ],
   "source": [
    "slice(data,100)"
   ]
  },
  {
   "cell_type": "code",
   "execution_count": 23,
   "metadata": {
    "vscode": {
     "languageId": "r"
    }
   },
   "outputs": [
    {
     "data": {
      "text/html": [
       "<table>\n",
       "<thead><tr><th scope=col>Price</th><th scope=col>Age</th><th scope=col>KM</th><th scope=col>FuelType</th><th scope=col>HP</th><th scope=col>MetColor</th><th scope=col>Automatic</th><th scope=col>CC</th><th scope=col>Doors</th><th scope=col>Weight</th></tr></thead>\n",
       "<tbody>\n",
       "\t<tr><td> 8150 </td><td>65    </td><td> 87821</td><td>Petrol</td><td> 86   </td><td>1     </td><td>0     </td><td>1300  </td><td>3     </td><td>1015  </td></tr>\n",
       "\t<tr><td> 6950 </td><td>76    </td><td>191620</td><td>Diesel</td><td> 72   </td><td>0     </td><td>0     </td><td>2000  </td><td>5     </td><td>1150  </td></tr>\n",
       "\t<tr><td>14750 </td><td>40    </td><td> 80425</td><td>Diesel</td><td> 90   </td><td>1     </td><td>0     </td><td>2000  </td><td>5     </td><td>1205  </td></tr>\n",
       "\t<tr><td> 9950 </td><td>58    </td><td> 62024</td><td>Petrol</td><td>110   </td><td>1     </td><td>0     </td><td>1600  </td><td>5     </td><td>1075  </td></tr>\n",
       "\t<tr><td> 7750 </td><td>55    </td><td>137000</td><td>Diesel</td><td> 72   </td><td>1     </td><td>0     </td><td>2000  </td><td>5     </td><td>1135  </td></tr>\n",
       "\t<tr><td>10500 </td><td>61    </td><td> 66259</td><td>Petrol</td><td>110   </td><td>1     </td><td>0     </td><td>1600  </td><td>3     </td><td>1065  </td></tr>\n",
       "\t<tr><td>10950 </td><td>76    </td><td> 53133</td><td>Petrol</td><td>110   </td><td>1     </td><td>0     </td><td>1600  </td><td>5     </td><td>1070  </td></tr>\n",
       "\t<tr><td> 7500 </td><td>71    </td><td> 83291</td><td>Petrol</td><td>110   </td><td>1     </td><td>0     </td><td>1600  </td><td>5     </td><td>1070  </td></tr>\n",
       "\t<tr><td> 8750 </td><td>79    </td><td> 86000</td><td>Petrol</td><td> 86   </td><td>1     </td><td>0     </td><td>1300  </td><td>5     </td><td>1040  </td></tr>\n",
       "\t<tr><td> 6500 </td><td>70    </td><td> 91900</td><td>Petrol</td><td> 86   </td><td>1     </td><td>0     </td><td>1300  </td><td>3     </td><td>1015  </td></tr>\n",
       "</tbody>\n",
       "</table>\n"
      ],
      "text/latex": [
       "\\begin{tabular}{r|llllllllll}\n",
       " Price & Age & KM & FuelType & HP & MetColor & Automatic & CC & Doors & Weight\\\\\n",
       "\\hline\n",
       "\t  8150  & 65     &  87821 & Petrol &  86    & 1      & 0      & 1300   & 3      & 1015  \\\\\n",
       "\t  6950  & 76     & 191620 & Diesel &  72    & 0      & 0      & 2000   & 5      & 1150  \\\\\n",
       "\t 14750  & 40     &  80425 & Diesel &  90    & 1      & 0      & 2000   & 5      & 1205  \\\\\n",
       "\t  9950  & 58     &  62024 & Petrol & 110    & 1      & 0      & 1600   & 5      & 1075  \\\\\n",
       "\t  7750  & 55     & 137000 & Diesel &  72    & 1      & 0      & 2000   & 5      & 1135  \\\\\n",
       "\t 10500  & 61     &  66259 & Petrol & 110    & 1      & 0      & 1600   & 3      & 1065  \\\\\n",
       "\t 10950  & 76     &  53133 & Petrol & 110    & 1      & 0      & 1600   & 5      & 1070  \\\\\n",
       "\t  7500  & 71     &  83291 & Petrol & 110    & 1      & 0      & 1600   & 5      & 1070  \\\\\n",
       "\t  8750  & 79     &  86000 & Petrol &  86    & 1      & 0      & 1300   & 5      & 1040  \\\\\n",
       "\t  6500  & 70     &  91900 & Petrol &  86    & 1      & 0      & 1300   & 3      & 1015  \\\\\n",
       "\\end{tabular}\n"
      ],
      "text/markdown": [
       "\n",
       "| Price | Age | KM | FuelType | HP | MetColor | Automatic | CC | Doors | Weight |\n",
       "|---|---|---|---|---|---|---|---|---|---|\n",
       "|  8150  | 65     |  87821 | Petrol |  86    | 1      | 0      | 1300   | 3      | 1015   |\n",
       "|  6950  | 76     | 191620 | Diesel |  72    | 0      | 0      | 2000   | 5      | 1150   |\n",
       "| 14750  | 40     |  80425 | Diesel |  90    | 1      | 0      | 2000   | 5      | 1205   |\n",
       "|  9950  | 58     |  62024 | Petrol | 110    | 1      | 0      | 1600   | 5      | 1075   |\n",
       "|  7750  | 55     | 137000 | Diesel |  72    | 1      | 0      | 2000   | 5      | 1135   |\n",
       "| 10500  | 61     |  66259 | Petrol | 110    | 1      | 0      | 1600   | 3      | 1065   |\n",
       "| 10950  | 76     |  53133 | Petrol | 110    | 1      | 0      | 1600   | 5      | 1070   |\n",
       "|  7500  | 71     |  83291 | Petrol | 110    | 1      | 0      | 1600   | 5      | 1070   |\n",
       "|  8750  | 79     |  86000 | Petrol |  86    | 1      | 0      | 1300   | 5      | 1040   |\n",
       "|  6500  | 70     |  91900 | Petrol |  86    | 1      | 0      | 1300   | 3      | 1015   |\n",
       "\n"
      ],
      "text/plain": [
       "   Price Age KM     FuelType HP  MetColor Automatic CC   Doors Weight\n",
       "1   8150 65   87821 Petrol    86 1        0         1300 3     1015  \n",
       "2   6950 76  191620 Diesel    72 0        0         2000 5     1150  \n",
       "3  14750 40   80425 Diesel    90 1        0         2000 5     1205  \n",
       "4   9950 58   62024 Petrol   110 1        0         1600 5     1075  \n",
       "5   7750 55  137000 Diesel    72 1        0         2000 5     1135  \n",
       "6  10500 61   66259 Petrol   110 1        0         1600 3     1065  \n",
       "7  10950 76   53133 Petrol   110 1        0         1600 5     1070  \n",
       "8   7500 71   83291 Petrol   110 1        0         1600 5     1070  \n",
       "9   8750 79   86000 Petrol    86 1        0         1300 5     1040  \n",
       "10  6500 70   91900 Petrol    86 1        0         1300 3     1015  "
      ]
     },
     "metadata": {},
     "output_type": "display_data"
    }
   ],
   "source": [
    "sample_n(data,10)"
   ]
  },
  {
   "cell_type": "code",
   "execution_count": null,
   "metadata": {
    "vscode": {
     "languageId": "r"
    }
   },
   "outputs": [],
   "source": [
    "arrange(data)"
   ]
  },
  {
   "cell_type": "code",
   "execution_count": null,
   "metadata": {
    "vscode": {
     "languageId": "r"
    }
   },
   "outputs": [],
   "source": [
    "filter(data,data$Age>50)"
   ]
  },
  {
   "cell_type": "code",
   "execution_count": null,
   "metadata": {
    "vscode": {
     "languageId": "r"
    }
   },
   "outputs": [],
   "source": [
    "mutate(data,kitnadetihe=(data$CC/data$HP))"
   ]
  },
  {
   "cell_type": "code",
   "execution_count": 32,
   "metadata": {
    "vscode": {
     "languageId": "r"
    }
   },
   "outputs": [
    {
     "data": {
      "text/html": [
       "TRUE"
      ],
      "text/latex": [
       "TRUE"
      ],
      "text/markdown": [
       "TRUE"
      ],
      "text/plain": [
       "[1] TRUE"
      ]
     },
     "metadata": {},
     "output_type": "display_data"
    }
   ],
   "source": [
    "complete.cases(sum(data$Age))"
   ]
  },
  {
   "cell_type": "code",
   "execution_count": 33,
   "metadata": {
    "vscode": {
     "languageId": "r"
    }
   },
   "outputs": [
    {
     "name": "stdout",
     "output_type": "stream",
     "text": [
      "Rows: 1,436\n",
      "Columns: 10\n",
      "$ Price     <int> 13500, 13750, 13950, 14950, 13750, 12950, 16900, 18600, 2150~\n",
      "$ Age       <int> 23, 23, 24, 26, 30, 32, 27, 30, 27, 23, 25, 22, 25, 31, 32, ~\n",
      "$ KM        <int> 46986, 72937, 41711, 48000, 38500, 61000, 94612, 75889, 1970~\n",
      "$ FuelType  <fct> Diesel, Diesel, Diesel, Diesel, Diesel, Diesel, Diesel, Dies~\n",
      "$ HP        <int> 90, 90, 90, 90, 90, 90, 90, 90, 192, 69, 192, 192, 192, 192,~\n",
      "$ MetColor  <int> 1, 1, 1, 0, 0, 0, 1, 1, 0, 0, 0, 0, 0, 1, 1, 0, 1, 1, 0, 1, ~\n",
      "$ Automatic <int> 0, 0, 0, 0, 0, 0, 0, 0, 0, 0, 0, 0, 0, 0, 0, 0, 0, 0, 0, 0, ~\n",
      "$ CC        <int> 2000, 2000, 2000, 2000, 2000, 2000, 2000, 2000, 1800, 1900, ~\n",
      "$ Doors     <int> 3, 3, 3, 3, 3, 3, 3, 3, 3, 3, 3, 3, 3, 3, 3, 3, 3, 3, 3, 3, ~\n",
      "$ Weight    <int> 1165, 1165, 1165, 1165, 1170, 1170, 1245, 1245, 1185, 1105, ~\n"
     ]
    }
   ],
   "source": [
    "glimpse(data)"
   ]
  },
  {
   "cell_type": "code",
   "execution_count": null,
   "metadata": {
    "vscode": {
     "languageId": "r"
    }
   },
   "outputs": [],
   "source": [
    "boxplot.stats(data$Price)"
   ]
  },
  {
   "cell_type": "code",
   "execution_count": 36,
   "metadata": {
    "vscode": {
     "languageId": "r"
    }
   },
   "outputs": [
    {
     "data": {
      "image/png": "[encoded data removed]",
      "text/plain": [
       "plot without title"
      ]
     },
     "metadata": {},
     "output_type": "display_data"
    }
   ],
   "source": [
    "boxplot(data$Price)"
   ]
  },
  {
   "cell_type": "code",
   "execution_count": null,
   "metadata": {
    "vscode": {
     "languageId": "r"
    }
   },
   "outputs": [],
   "source": []
  }
 ],
 "metadata": {
  "kernelspec": {
   "display_name": "R",
   "language": "R",
   "name": "ir"
  },
  "language_info": {
   "codemirror_mode": "r",
   "file_extension": ".r",
   "mimetype": "text/x-r-source",
   "name": "R",
   "pygments_lexer": "r",
   "version": "3.6.1"
  },
  "orig_nbformat": 4
 },
 "nbformat": 4,
 "nbformat_minor": 2
}
